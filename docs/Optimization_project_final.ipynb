{
 "cells": [
  {
   "cell_type": "code",
   "execution_count": 1,
   "id": "77f10fe8-625f-4a08-a7b7-ad0dd23cac5a",
   "metadata": {},
   "outputs": [
    {
     "name": "stderr",
     "output_type": "stream",
     "text": [
      "\u001b[36m\u001b[1m[ \u001b[22m\u001b[39m\u001b[36m\u001b[1mInfo: \u001b[22m\u001b[39mPrecompiling CSV [336ed68f-0bac-5ca0-87d4-7b16caf5d00b]\n"
     ]
    }
   ],
   "source": [
    "using CSV, DataFrames"
   ]
  },
  {
   "cell_type": "code",
   "execution_count": 2,
   "id": "580cacf1-aa34-492f-9024-fc53577ecc70",
   "metadata": {},
   "outputs": [
    {
     "name": "stderr",
     "output_type": "stream",
     "text": [
      "\u001b[36m\u001b[1m[ \u001b[22m\u001b[39m\u001b[36m\u001b[1mInfo: \u001b[22m\u001b[39mPrecompiling Gurobi [2e9cd046-0924-5485-92f1-d5272153d98b]\n"
     ]
    }
   ],
   "source": [
    "using JuMP, Gurobi"
   ]
  },
  {
   "cell_type": "code",
   "execution_count": 3,
   "id": "960d5cd0",
   "metadata": {
    "scrolled": true
   },
   "outputs": [
    {
     "name": "stderr",
     "output_type": "stream",
     "text": [
      "\u001b[36m\u001b[1m[ \u001b[22m\u001b[39m\u001b[36m\u001b[1mInfo: \u001b[22m\u001b[39mPrecompiling IJuliaExt [2f4121a4-3b3a-5ce6-9c5e-1f2673ce168a]\n"
     ]
    }
   ],
   "source": [
    "using Plots"
   ]
  },
  {
   "cell_type": "code",
   "execution_count": 4,
   "id": "ba95f43d-b907-4754-98bf-d2cbd555d739",
   "metadata": {
    "scrolled": true
   },
   "outputs": [
    {
     "data": {
      "text/plain": [
       "1:2283"
      ]
     },
     "execution_count": 4,
     "metadata": {},
     "output_type": "execute_result"
    }
   ],
   "source": [
    "employee_data = CSV.File(\"employee_data.csv\") |> DataFrame\n",
    "employee_data = select(employee_data, Not(:Employee_ID))\n",
    "employee_data.RowIndex = 1:nrow(employee_data)"
   ]
  },
  {
   "cell_type": "code",
   "execution_count": 5,
   "id": "40b5b098-c38d-4685-ab3f-5f1a031a1190",
   "metadata": {},
   "outputs": [
    {
     "data": {
      "text/html": [
       "<div><div style = \"float: left;\"><span>25×4 DataFrame</span></div><div style = \"clear: both;\"></div></div><div class = \"data-frame\" style = \"overflow-x: scroll;\"><table class = \"data-frame\" style = \"margin-bottom: 6px;\"><thead><tr class = \"header\"><th class = \"rowNumber\" style = \"font-weight: bold; text-align: right;\">Row</th><th style = \"text-align: left;\">Department</th><th style = \"text-align: left;\">Level</th><th style = \"text-align: left;\">Min_Num_Employees</th><th style = \"text-align: left;\">Max_Num_Employees</th></tr><tr class = \"subheader headerLastRow\"><th class = \"rowNumber\" style = \"font-weight: bold; text-align: right;\"></th><th title = \"Int64\" style = \"text-align: left;\">Int64</th><th title = \"Int64\" style = \"text-align: left;\">Int64</th><th title = \"Int64\" style = \"text-align: left;\">Int64</th><th title = \"Int64\" style = \"text-align: left;\">Int64</th></tr></thead><tbody><tr><td class = \"rowNumber\" style = \"font-weight: bold; text-align: right;\">1</td><td style = \"text-align: right;\">1</td><td style = \"text-align: right;\">1</td><td style = \"text-align: right;\">60</td><td style = \"text-align: right;\">80</td></tr><tr><td class = \"rowNumber\" style = \"font-weight: bold; text-align: right;\">2</td><td style = \"text-align: right;\">2</td><td style = \"text-align: right;\">1</td><td style = \"text-align: right;\">65</td><td style = \"text-align: right;\">80</td></tr><tr><td class = \"rowNumber\" style = \"font-weight: bold; text-align: right;\">3</td><td style = \"text-align: right;\">3</td><td style = \"text-align: right;\">1</td><td style = \"text-align: right;\">35</td><td style = \"text-align: right;\">70</td></tr><tr><td class = \"rowNumber\" style = \"font-weight: bold; text-align: right;\">4</td><td style = \"text-align: right;\">4</td><td style = \"text-align: right;\">1</td><td style = \"text-align: right;\">60</td><td style = \"text-align: right;\">84</td></tr><tr><td class = \"rowNumber\" style = \"font-weight: bold; text-align: right;\">5</td><td style = \"text-align: right;\">5</td><td style = \"text-align: right;\">1</td><td style = \"text-align: right;\">8</td><td style = \"text-align: right;\">73</td></tr><tr><td class = \"rowNumber\" style = \"font-weight: bold; text-align: right;\">6</td><td style = \"text-align: right;\">1</td><td style = \"text-align: right;\">2</td><td style = \"text-align: right;\">55</td><td style = \"text-align: right;\">80</td></tr><tr><td class = \"rowNumber\" style = \"font-weight: bold; text-align: right;\">7</td><td style = \"text-align: right;\">2</td><td style = \"text-align: right;\">2</td><td style = \"text-align: right;\">70</td><td style = \"text-align: right;\">90</td></tr><tr><td class = \"rowNumber\" style = \"font-weight: bold; text-align: right;\">8</td><td style = \"text-align: right;\">3</td><td style = \"text-align: right;\">2</td><td style = \"text-align: right;\">40</td><td style = \"text-align: right;\">80</td></tr><tr><td class = \"rowNumber\" style = \"font-weight: bold; text-align: right;\">9</td><td style = \"text-align: right;\">4</td><td style = \"text-align: right;\">2</td><td style = \"text-align: right;\">74</td><td style = \"text-align: right;\">86</td></tr><tr><td class = \"rowNumber\" style = \"font-weight: bold; text-align: right;\">10</td><td style = \"text-align: right;\">5</td><td style = \"text-align: right;\">2</td><td style = \"text-align: right;\">40</td><td style = \"text-align: right;\">79</td></tr><tr><td class = \"rowNumber\" style = \"font-weight: bold; text-align: right;\">11</td><td style = \"text-align: right;\">1</td><td style = \"text-align: right;\">3</td><td style = \"text-align: right;\">50</td><td style = \"text-align: right;\">60</td></tr><tr><td class = \"rowNumber\" style = \"font-weight: bold; text-align: right;\">12</td><td style = \"text-align: right;\">2</td><td style = \"text-align: right;\">3</td><td style = \"text-align: right;\">60</td><td style = \"text-align: right;\">75</td></tr><tr><td class = \"rowNumber\" style = \"font-weight: bold; text-align: right;\">13</td><td style = \"text-align: right;\">3</td><td style = \"text-align: right;\">3</td><td style = \"text-align: right;\">42</td><td style = \"text-align: right;\">84</td></tr><tr><td class = \"rowNumber\" style = \"font-weight: bold; text-align: right;\">14</td><td style = \"text-align: right;\">4</td><td style = \"text-align: right;\">3</td><td style = \"text-align: right;\">51</td><td style = \"text-align: right;\">92</td></tr><tr><td class = \"rowNumber\" style = \"font-weight: bold; text-align: right;\">15</td><td style = \"text-align: right;\">5</td><td style = \"text-align: right;\">3</td><td style = \"text-align: right;\">58</td><td style = \"text-align: right;\">70</td></tr><tr><td class = \"rowNumber\" style = \"font-weight: bold; text-align: right;\">16</td><td style = \"text-align: right;\">1</td><td style = \"text-align: right;\">4</td><td style = \"text-align: right;\">50</td><td style = \"text-align: right;\">65</td></tr><tr><td class = \"rowNumber\" style = \"font-weight: bold; text-align: right;\">17</td><td style = \"text-align: right;\">2</td><td style = \"text-align: right;\">4</td><td style = \"text-align: right;\">60</td><td style = \"text-align: right;\">75</td></tr><tr><td class = \"rowNumber\" style = \"font-weight: bold; text-align: right;\">18</td><td style = \"text-align: right;\">3</td><td style = \"text-align: right;\">4</td><td style = \"text-align: right;\">52</td><td style = \"text-align: right;\">85</td></tr><tr><td class = \"rowNumber\" style = \"font-weight: bold; text-align: right;\">19</td><td style = \"text-align: right;\">4</td><td style = \"text-align: right;\">4</td><td style = \"text-align: right;\">32</td><td style = \"text-align: right;\">76</td></tr><tr><td class = \"rowNumber\" style = \"font-weight: bold; text-align: right;\">20</td><td style = \"text-align: right;\">5</td><td style = \"text-align: right;\">4</td><td style = \"text-align: right;\">55</td><td style = \"text-align: right;\">72</td></tr><tr><td class = \"rowNumber\" style = \"font-weight: bold; text-align: right;\">21</td><td style = \"text-align: right;\">1</td><td style = \"text-align: right;\">5</td><td style = \"text-align: right;\">25</td><td style = \"text-align: right;\">30</td></tr><tr><td class = \"rowNumber\" style = \"font-weight: bold; text-align: right;\">22</td><td style = \"text-align: right;\">2</td><td style = \"text-align: right;\">5</td><td style = \"text-align: right;\">30</td><td style = \"text-align: right;\">40</td></tr><tr><td class = \"rowNumber\" style = \"font-weight: bold; text-align: right;\">23</td><td style = \"text-align: right;\">3</td><td style = \"text-align: right;\">5</td><td style = \"text-align: right;\">10</td><td style = \"text-align: right;\">15</td></tr><tr><td class = \"rowNumber\" style = \"font-weight: bold; text-align: right;\">24</td><td style = \"text-align: right;\">4</td><td style = \"text-align: right;\">5</td><td style = \"text-align: right;\">24</td><td style = \"text-align: right;\">90</td></tr><tr><td class = \"rowNumber\" style = \"font-weight: bold; text-align: right;\">25</td><td style = \"text-align: right;\">5</td><td style = \"text-align: right;\">5</td><td style = \"text-align: right;\">40</td><td style = \"text-align: right;\">70</td></tr></tbody></table></div>"
      ],
      "text/latex": [
       "\\begin{tabular}{r|cccc}\n",
       "\t& Department & Level & Min\\_Num\\_Employees & Max\\_Num\\_Employees\\\\\n",
       "\t\\hline\n",
       "\t& Int64 & Int64 & Int64 & Int64\\\\\n",
       "\t\\hline\n",
       "\t1 & 1 & 1 & 60 & 80 \\\\\n",
       "\t2 & 2 & 1 & 65 & 80 \\\\\n",
       "\t3 & 3 & 1 & 35 & 70 \\\\\n",
       "\t4 & 4 & 1 & 60 & 84 \\\\\n",
       "\t5 & 5 & 1 & 8 & 73 \\\\\n",
       "\t6 & 1 & 2 & 55 & 80 \\\\\n",
       "\t7 & 2 & 2 & 70 & 90 \\\\\n",
       "\t8 & 3 & 2 & 40 & 80 \\\\\n",
       "\t9 & 4 & 2 & 74 & 86 \\\\\n",
       "\t10 & 5 & 2 & 40 & 79 \\\\\n",
       "\t11 & 1 & 3 & 50 & 60 \\\\\n",
       "\t12 & 2 & 3 & 60 & 75 \\\\\n",
       "\t13 & 3 & 3 & 42 & 84 \\\\\n",
       "\t14 & 4 & 3 & 51 & 92 \\\\\n",
       "\t15 & 5 & 3 & 58 & 70 \\\\\n",
       "\t16 & 1 & 4 & 50 & 65 \\\\\n",
       "\t17 & 2 & 4 & 60 & 75 \\\\\n",
       "\t18 & 3 & 4 & 52 & 85 \\\\\n",
       "\t19 & 4 & 4 & 32 & 76 \\\\\n",
       "\t20 & 5 & 4 & 55 & 72 \\\\\n",
       "\t21 & 1 & 5 & 25 & 30 \\\\\n",
       "\t22 & 2 & 5 & 30 & 40 \\\\\n",
       "\t23 & 3 & 5 & 10 & 15 \\\\\n",
       "\t24 & 4 & 5 & 24 & 90 \\\\\n",
       "\t25 & 5 & 5 & 40 & 70 \\\\\n",
       "\\end{tabular}\n"
      ],
      "text/plain": [
       "\u001b[1m25×4 DataFrame\u001b[0m\n",
       "\u001b[1m Row \u001b[0m│\u001b[1m Department \u001b[0m\u001b[1m Level \u001b[0m\u001b[1m Min_Num_Employees \u001b[0m\u001b[1m Max_Num_Employees \u001b[0m\n",
       "     │\u001b[90m Int64      \u001b[0m\u001b[90m Int64 \u001b[0m\u001b[90m Int64             \u001b[0m\u001b[90m Int64             \u001b[0m\n",
       "─────┼─────────────────────────────────────────────────────────\n",
       "   1 │          1      1                 60                 80\n",
       "   2 │          2      1                 65                 80\n",
       "   3 │          3      1                 35                 70\n",
       "   4 │          4      1                 60                 84\n",
       "   5 │          5      1                  8                 73\n",
       "   6 │          1      2                 55                 80\n",
       "   7 │          2      2                 70                 90\n",
       "   8 │          3      2                 40                 80\n",
       "   9 │          4      2                 74                 86\n",
       "  10 │          5      2                 40                 79\n",
       "  11 │          1      3                 50                 60\n",
       "  ⋮  │     ⋮         ⋮            ⋮                  ⋮\n",
       "  16 │          1      4                 50                 65\n",
       "  17 │          2      4                 60                 75\n",
       "  18 │          3      4                 52                 85\n",
       "  19 │          4      4                 32                 76\n",
       "  20 │          5      4                 55                 72\n",
       "  21 │          1      5                 25                 30\n",
       "  22 │          2      5                 30                 40\n",
       "  23 │          3      5                 10                 15\n",
       "  24 │          4      5                 24                 90\n",
       "  25 │          5      5                 40                 70\n",
       "\u001b[36m                                                 4 rows omitted\u001b[0m"
      ]
     },
     "execution_count": 5,
     "metadata": {},
     "output_type": "execute_result"
    }
   ],
   "source": [
    "demand_data = CSV.File(\"demand_data.csv\") |> DataFrame\n",
    "demand_data = demand_data[:, 1:4]"
   ]
  },
  {
   "cell_type": "code",
   "execution_count": 6,
   "id": "cbef3763",
   "metadata": {},
   "outputs": [],
   "source": [
    "dropmissing!(employee_data)\n",
    "dropmissing!(demand_data); "
   ]
  },
  {
   "cell_type": "markdown",
   "id": "b457fcb3-bb0d-4dd4-af8d-5f239b3d80d3",
   "metadata": {},
   "source": [
    "## Baseline"
   ]
  },
  {
   "cell_type": "code",
   "execution_count": 7,
   "id": "95f3347d-73ad-46cf-8173-3547c758361a",
   "metadata": {
    "scrolled": true
   },
   "outputs": [
    {
     "data": {
      "text/plain": [
       "1257-element Vector{Int64}:\n",
       "    1\n",
       "    2\n",
       "    3\n",
       "    4\n",
       "    5\n",
       "    6\n",
       "    7\n",
       "    8\n",
       "    9\n",
       "   10\n",
       "   11\n",
       "   12\n",
       "   13\n",
       "    ⋮\n",
       " 2082\n",
       " 2083\n",
       " 2084\n",
       " 2085\n",
       " 2086\n",
       " 2087\n",
       " 2088\n",
       " 2089\n",
       " 2090\n",
       " 2091\n",
       " 2092\n",
       " 2093"
      ]
     },
     "execution_count": 7,
     "metadata": {},
     "output_type": "execute_result"
    }
   ],
   "source": [
    "function optimize_employee_allocation_baseline(employee_data, demand_data; total_employees_limit=1500)\n",
    "    # Convert to DataFrame for easier handling\n",
    "    E = DataFrame(employee_data)\n",
    "    D = DataFrame(demand_data)\n",
    "\n",
    "    # Sort employees within each department and level by years at the company\n",
    "    sort!(E, [:Department, :Level_in_Company, :Years_at_Company], rev=true)\n",
    "\n",
    "    # Initialize the selection variable directly\n",
    "    E.Selected = falses(size(E, 1))\n",
    "\n",
    "    # Function to select employees for a department and level\n",
    "    function select_employees(dept, level, max_select)\n",
    "        dept_level_filter = (E.Department .== dept) .& (E.Level_in_Company .== level)\n",
    "        dept_lvl_employees = findall(dept_level_filter)\n",
    "        selected_count = 0\n",
    "\n",
    "        for i in dept_lvl_employees\n",
    "            if selected_count < max_select\n",
    "                E[i, :Selected] = true\n",
    "                selected_count += 1\n",
    "            else\n",
    "                break\n",
    "            end\n",
    "        end\n",
    "\n",
    "        return selected_count\n",
    "    end\n",
    "\n",
    "    # First, meet the minimum demand for each department and level\n",
    "    for dept in unique(E.Department)\n",
    "        for level in unique(E.Level_in_Company)\n",
    "            min_demand = D[(D.Department .== dept) .& (D.Level .== level), :Min_Num_Employees][1]\n",
    "            select_employees(dept, level, min_demand)\n",
    "        end\n",
    "    end\n",
    "\n",
    "    # Check how many employees have been selected and how many can still be selected\n",
    "    total_selected = sum(E.Selected)\n",
    "    remaining_capacity = total_employees_limit - total_selected\n",
    "\n",
    "    # If there is remaining capacity, distribute it to meet maximum demands\n",
    "    if remaining_capacity > 0\n",
    "        for dept in unique(E.Department)\n",
    "            for level in unique(E.Level_in_Company)\n",
    "                max_demand = D[(D.Department .== dept) .& (D.Level .== level), :Max_Num_Employees][1]\n",
    "                already_selected = sum((E.Department .== dept) .& (E.Level_in_Company .== level) .& E.Selected)\n",
    "                additional_needed = max_demand - already_selected\n",
    "\n",
    "                if additional_needed > 0\n",
    "                    select_employees(dept, level, min(remaining_capacity, additional_needed))\n",
    "                    total_selected = sum(E.Selected)\n",
    "                    remaining_capacity = total_employees_limit - total_selected\n",
    "                end\n",
    "\n",
    "                if remaining_capacity <= 0\n",
    "                    break\n",
    "                end\n",
    "            end\n",
    "            if remaining_capacity <= 0\n",
    "                break\n",
    "            end\n",
    "        end\n",
    "    end\n",
    "    \n",
    "    selected_summary = groupby(E, [:Department, :Level_in_Company])\n",
    "    for group in selected_summary\n",
    "        dept = group.Department[1]\n",
    "        level = group.Level_in_Company[1]\n",
    "        selected_count = sum(group.Selected)\n",
    "#         println(\"Department: \", dept, \", Level: \", level, \", Selected: \", selected_count)\n",
    "    end\n",
    "\n",
    "    # Return the indices of selected employees\n",
    "    return findall(E.Selected)\n",
    "end\n",
    "\n",
    "\n",
    "out = optimize_employee_allocation_baseline(employee_data, demand_data; total_employees_limit=1500)"
   ]
  },
  {
   "cell_type": "markdown",
   "id": "6435f326",
   "metadata": {},
   "source": [
    "## Master function"
   ]
  },
  {
   "cell_type": "code",
   "execution_count": 41,
   "id": "56f32e5c",
   "metadata": {},
   "outputs": [
    {
     "data": {
      "text/plain": [
       "optimal_employee_allocation (generic function with 1 method)"
      ]
     },
     "execution_count": 41,
     "metadata": {},
     "output_type": "execute_result"
    }
   ],
   "source": [
    "function optimal_employee_allocation(employee_data, demand_data; nlevels=5, ndept=5, M=10000000, min_score=4.0, eps=100, total_employees_limit=1500,  diversity=false, score=false)\n",
    "    n = nrow(employee_data)\n",
    "    E = Matrix(employee_data)\n",
    "    R = E[:, 4]\n",
    "    C = E[:, 3]\n",
    "    S = E[:, 11]\n",
    "    Sc = E[:,6]\n",
    "    D = demand_data\n",
    "    D_min = zeros(Int64, ndept, nlevels)\n",
    "    D_max = zeros(Int64, ndept, nlevels)\n",
    "    for j in 1:ndept\n",
    "        for k in 1:nlevels\n",
    "            Djk = D[(D.Department .== j) .& (D.Level .== k),:]\n",
    "            if size(Djk)[1] != 0\n",
    "                D_min[j,k] = first(Djk.Min_Num_Employees)\n",
    "                D_max[j,k] = first(Djk.Max_Num_Employees)\n",
    "            end\n",
    "        end\n",
    "    end\n",
    "    BB = [[Matrix(employee_data[(employee_data.Department .== department) .& (employee_data.Level_in_Company .== level),:])[:,1] for level in 1:nlevels] for department in 1:ndept]\n",
    "    company_A = employee_data[employee_data.Company .== 1,:]\n",
    "    company_B = employee_data[employee_data.Company .== 2,:]\n",
    "    A = Matrix(company_A)[:,1]\n",
    "    B = Matrix(company_B)[:,1]\n",
    "    \n",
    "    model = Model(Gurobi.Optimizer)\n",
    "    @variable(model, X[1:n]>=0)\n",
    "\n",
    "    @objective(model, Max, sum(R[i]X[i] - C[i]*X[i] - S[i]*(1-X[i]) for i in 1:n))\n",
    "    \n",
    "    @constraint(model, [j in 1:n], X[j] <= 1)\n",
    "    @constraint(model, total_employees, sum(X[i] for i in 1:n) <= total_employees_limit)\n",
    "    \n",
    "    @constraint(model, min_demand_dept[j in 1:ndept, k in 1:nlevels], sum(X[i] for i in BB[1][2]) >= D_min[j,k])\n",
    "    @constraint(model, max_demand_dept[j in 1:ndept, k in 1:nlevels], sum(X[i] for i in BB[1][2]) >= D_max[j,k])\n",
    "   \n",
    "    if diversity\n",
    "        @constraint(model, sum(X[i] for i in 1:n if employee_data[i, :Gender] == \"Female\") >= 0.4 * n)\n",
    "        @constraint(model, sum(X[i] for i in 1:n if employee_data[i, :Gender] == \"Female\") <= 0.6 * n)\n",
    "#         @constraint(model, sum(X[i] for i in 1:n if employee_data[i, :Race] == \"African American\") >= 0.15 * n)\n",
    "#         @constraint(model, sum(X[i] for i in 1:n if employee_data[i, :Race] == \"Hispanic\") >= 0.15 * n)\n",
    "#         @constraint(model, sum(X[i] for i in 1:n if employee_data[i, :Race] == \"Other\") >= 0.05 * n)\n",
    "        @constraint(model, sum(X[i] for i in 1:n if employee_data[i, :Race] != \"Caucasian\") >= 0.6 * n)\n",
    "        \n",
    "    end\n",
    "    \n",
    "    if score\n",
    "        @constraint(model, min_score_employee[i in 1:n], X[i] * Sc[i] >= min_score - M*(1-X[i]))\n",
    "    end\n",
    "    \n",
    "    optimize!(model)\n",
    "    \n",
    "    return value.(X), objective_value(model)\n",
    "end"
   ]
  },
  {
   "cell_type": "code",
   "execution_count": 42,
   "id": "0c3dc2e8",
   "metadata": {},
   "outputs": [
    {
     "name": "stdout",
     "output_type": "stream",
     "text": [
      "Set parameter Username\n",
      "Academic license - for non-commercial use only - expires 2024-08-22\n",
      "Gurobi Optimizer version 10.0.2 build v10.0.2rc0 (mac64[x86])\n",
      "\n",
      "CPU model: Intel(R) Core(TM) i5-8257U CPU @ 1.40GHz\n",
      "Thread count: 4 physical cores, 8 logical processors, using up to 8 threads\n",
      "\n",
      "Optimize a model with 2201 rows, 2147 columns and 8166 nonzeros\n",
      "Model fingerprint: 0x48e09ceb\n",
      "Coefficient statistics:\n",
      "  Matrix range     [1e+00, 1e+02]\n",
      "  Objective range  [1e+01, 3e+05]\n",
      "  Bounds range     [0e+00, 0e+00]\n",
      "  RHS range        [1e+00, 2e+03]\n",
      "Presolve removed 2198 rows and 66 columns\n",
      "Presolve time: 0.00s\n",
      "Presolved: 3 rows, 2081 columns, 4853 nonzeros\n",
      "\n",
      "Iteration    Objective       Primal Inf.    Dual Inf.      Time\n",
      "       0    3.1776645e+08   2.356014e+03   0.000000e+00      0s\n",
      "      11    1.5689455e+07   0.000000e+00   0.000000e+00      0s\n",
      "\n",
      "Solved in 11 iterations and 0.01 seconds (0.00 work units)\n",
      "Optimal objective  1.568945479e+07\n",
      "\n",
      "User-callback calls 53, time in user-callback 0.00 sec\n"
     ]
    },
    {
     "data": {
      "text/plain": [
       "([1.0, 0.8932038834951457, 0.0, 1.0, 1.0, 0.0, 0.0, 0.0, 0.0, 0.0  …  1.0, 1.0, 1.0, 0.0, 1.0, 1.0, 1.0, 0.0, 1.0, 0.0], 1.5689454791318879e7)"
      ]
     },
     "execution_count": 42,
     "metadata": {},
     "output_type": "execute_result"
    }
   ],
   "source": [
    "# Computing objective value of the baseline function\n",
    "not_hired = []\n",
    "for i in 1:nrow(employee_data)\n",
    "    if !(i in out)\n",
    "        push!(not_hired,i)\n",
    "    end\n",
    "end\n",
    "objective_baseline = sum(employee_data[i,:Revenue] for i in out) -sum(employee_data[i,:Salary] for i in out) - sum(employee_data[i, :Severance_estimate] for i in not_hired)\n",
    "\n",
    "\n",
    "# Computing objective value of simple model\n",
    "employees1, objective_model1 = optimal_employee_allocation(employee_data, demand_data)\n",
    "\n",
    "# Computing objective value of the model taking diverstiy into account (other,caucasian)\n",
    "employees2, objective_model2 = optimal_employee_allocation(employee_data, demand_data, diversity = true)\n",
    "\n",
    "# Computing objective value of the model taking scores into account (all except caucasian)\n",
    "employees3, objective_model3 = optimal_employee_allocation(employee_data, demand_data, diversity = true, score=false)\n",
    "\n",
    "# Computing objective value of the model taking scores and diversity into account, caucasian and gender\n",
    "employees4, objective_model4 = optimal_employee_allocation(employee_data, demand_data, diversity = true)"
   ]
  },
  {
   "cell_type": "code",
   "execution_count": 43,
   "id": "d3cbb112",
   "metadata": {},
   "outputs": [
    {
     "data": {
      "image/png": "[encoded data removed]",
      "image/svg+xml": [
       "<?xml version=\"1.0\" encoding=\"utf-8\"?>\n",
       "<svg xmlns=\"http://www.w3.org/2000/svg\" xmlns:xlink=\"http://www.w3.org/1999/xlink\" width=\"600\" height=\"400\" viewBox=\"0 0 2400 1600\">\n",
       "<defs>\n",
       "  <clipPath id=\"clip130\">\n",
       "    <rect x=\"0\" y=\"0\" width=\"2400\" height=\"1600\"/>\n",
       "  </clipPath>\n",
       "</defs>\n",
       "<path clip-path=\"url(#clip130)\" d=\"M0 1600 L2400 1600 L2400 0 L0 0  Z\" fill=\"#ffffff\" fill-rule=\"evenodd\" fill-opacity=\"1\"/>\n",
       "<defs>\n",
       "  <clipPath id=\"clip131\">\n",
       "    <rect x=\"480\" y=\"0\" width=\"1681\" height=\"1600\"/>\n",
       "  </clipPath>\n",
       "</defs>\n",
       "<path clip-path=\"url(#clip130)\" d=\"M375.305 1423.18 L2352.76 1423.18 L2352.76 47.2441 L375.305 47.2441  Z\" fill=\"#ffffff\" fill-rule=\"evenodd\" fill-opacity=\"1\"/>\n",
       "<defs>\n",
       "  <clipPath id=\"clip132\">\n",
       "    <rect x=\"375\" y=\"47\" width=\"1978\" height=\"1377\"/>\n",
       "  </clipPath>\n",
       "</defs>\n",
       "<polyline clip-path=\"url(#clip132)\" style=\"stroke:#000000; stroke-linecap:round; stroke-linejoin:round; stroke-width:2; stroke-opacity:0.1; fill:none\" points=\"630.729,1423.18 630.729,47.2441 \"/>\n",
       "<polyline clip-path=\"url(#clip132)\" style=\"stroke:#000000; stroke-linecap:round; stroke-linejoin:round; stroke-width:2; stroke-opacity:0.1; fill:none\" points=\"997.38,1423.18 997.38,47.2441 \"/>\n",
       "<polyline clip-path=\"url(#clip132)\" style=\"stroke:#000000; stroke-linecap:round; stroke-linejoin:round; stroke-width:2; stroke-opacity:0.1; fill:none\" points=\"1364.03,1423.18 1364.03,47.2441 \"/>\n",
       "<polyline clip-path=\"url(#clip132)\" style=\"stroke:#000000; stroke-linecap:round; stroke-linejoin:round; stroke-width:2; stroke-opacity:0.1; fill:none\" points=\"1730.68,1423.18 1730.68,47.2441 \"/>\n",
       "<polyline clip-path=\"url(#clip132)\" style=\"stroke:#000000; stroke-linecap:round; stroke-linejoin:round; stroke-width:2; stroke-opacity:0.1; fill:none\" points=\"2097.33,1423.18 2097.33,47.2441 \"/>\n",
       "<polyline clip-path=\"url(#clip130)\" style=\"stroke:#000000; stroke-linecap:round; stroke-linejoin:round; stroke-width:4; stroke-opacity:1; fill:none\" points=\"375.305,1423.18 2352.76,1423.18 \"/>\n",
       "<polyline clip-path=\"url(#clip130)\" style=\"stroke:#000000; stroke-linecap:round; stroke-linejoin:round; stroke-width:4; stroke-opacity:1; fill:none\" points=\"630.729,1423.18 630.729,1404.28 \"/>\n",
       "<polyline clip-path=\"url(#clip130)\" style=\"stroke:#000000; stroke-linecap:round; stroke-linejoin:round; stroke-width:4; stroke-opacity:1; fill:none\" points=\"997.38,1423.18 997.38,1404.28 \"/>\n",
       "<polyline clip-path=\"url(#clip130)\" style=\"stroke:#000000; stroke-linecap:round; stroke-linejoin:round; stroke-width:4; stroke-opacity:1; fill:none\" points=\"1364.03,1423.18 1364.03,1404.28 \"/>\n",
       "<polyline clip-path=\"url(#clip130)\" style=\"stroke:#000000; stroke-linecap:round; stroke-linejoin:round; stroke-width:4; stroke-opacity:1; fill:none\" points=\"1730.68,1423.18 1730.68,1404.28 \"/>\n",
       "<polyline clip-path=\"url(#clip130)\" style=\"stroke:#000000; stroke-linecap:round; stroke-linejoin:round; stroke-width:4; stroke-opacity:1; fill:none\" points=\"2097.33,1423.18 2097.33,1404.28 \"/>\n",
       "<path clip-path=\"url(#clip130)\" d=\"M538.496 1469.08 L538.496 1481.74 L545.996 1481.74 Q549.769 1481.74 551.574 1480.19 Q553.403 1478.61 553.403 1475.39 Q553.403 1472.15 551.574 1470.63 Q549.769 1469.08 545.996 1469.08 L538.496 1469.08 M538.496 1454.86 L538.496 1465.28 L545.417 1465.28 Q548.843 1465.28 550.509 1464.01 Q552.199 1462.71 552.199 1460.07 Q552.199 1457.45 550.509 1456.16 Q548.843 1454.86 545.417 1454.86 L538.496 1454.86 M533.82 1451.02 L545.764 1451.02 Q551.111 1451.02 554.005 1453.24 Q556.898 1455.46 556.898 1459.56 Q556.898 1462.73 555.417 1464.61 Q553.935 1466.48 551.065 1466.95 Q554.514 1467.69 556.412 1470.05 Q558.333 1472.39 558.333 1475.9 Q558.333 1480.53 555.185 1483.06 Q552.037 1485.58 546.227 1485.58 L533.82 1485.58 L533.82 1451.02 Z\" fill=\"#000000\" fill-rule=\"nonzero\" fill-opacity=\"1\" /><path clip-path=\"url(#clip130)\" d=\"M577.94 1472.55 Q572.778 1472.55 570.787 1473.73 Q568.796 1474.91 568.796 1477.76 Q568.796 1480.02 570.278 1481.37 Q571.782 1482.69 574.352 1482.69 Q577.894 1482.69 580.023 1480.19 Q582.176 1477.66 582.176 1473.5 L582.176 1472.55 L577.94 1472.55 M586.435 1470.79 L586.435 1485.58 L582.176 1485.58 L582.176 1481.64 Q580.718 1484.01 578.542 1485.14 Q576.366 1486.25 573.218 1486.25 Q569.236 1486.25 566.875 1484.03 Q564.537 1481.78 564.537 1478.03 Q564.537 1473.66 567.454 1471.44 Q570.394 1469.21 576.204 1469.21 L582.176 1469.21 L582.176 1468.8 Q582.176 1465.86 580.231 1464.26 Q578.31 1462.64 574.815 1462.64 Q572.593 1462.64 570.486 1463.17 Q568.38 1463.7 566.435 1464.77 L566.435 1460.83 Q568.773 1459.93 570.972 1459.49 Q573.171 1459.03 575.255 1459.03 Q580.88 1459.03 583.657 1461.95 Q586.435 1464.86 586.435 1470.79 Z\" fill=\"#000000\" fill-rule=\"nonzero\" fill-opacity=\"1\" /><path clip-path=\"url(#clip130)\" d=\"M611.736 1460.42 L611.736 1464.45 Q609.93 1463.52 607.986 1463.06 Q606.042 1462.59 603.958 1462.59 Q600.787 1462.59 599.19 1463.57 Q597.616 1464.54 597.616 1466.48 Q597.616 1467.96 598.75 1468.82 Q599.884 1469.65 603.31 1470.42 L604.768 1470.74 Q609.305 1471.71 611.204 1473.5 Q613.125 1475.26 613.125 1478.43 Q613.125 1482.04 610.254 1484.14 Q607.407 1486.25 602.407 1486.25 Q600.324 1486.25 598.055 1485.83 Q595.81 1485.44 593.31 1484.63 L593.31 1480.23 Q595.671 1481.46 597.963 1482.08 Q600.255 1482.69 602.5 1482.69 Q605.509 1482.69 607.129 1481.67 Q608.75 1480.63 608.75 1478.75 Q608.75 1477.02 607.569 1476.09 Q606.412 1475.16 602.454 1474.31 L600.972 1473.96 Q597.014 1473.13 595.255 1471.41 Q593.495 1469.68 593.495 1466.67 Q593.495 1463.01 596.088 1461.02 Q598.68 1459.03 603.449 1459.03 Q605.81 1459.03 607.893 1459.38 Q609.977 1459.72 611.736 1460.42 Z\" fill=\"#000000\" fill-rule=\"nonzero\" fill-opacity=\"1\" /><path clip-path=\"url(#clip130)\" d=\"M642.083 1471.55 L642.083 1473.64 L622.5 1473.64 Q622.778 1478.03 625.139 1480.35 Q627.523 1482.64 631.759 1482.64 Q634.213 1482.64 636.504 1482.04 Q638.819 1481.44 641.088 1480.23 L641.088 1484.26 Q638.796 1485.23 636.389 1485.74 Q633.981 1486.25 631.504 1486.25 Q625.301 1486.25 621.666 1482.64 Q618.055 1479.03 618.055 1472.87 Q618.055 1466.51 621.481 1462.78 Q624.93 1459.03 630.764 1459.03 Q635.995 1459.03 639.027 1462.41 Q642.083 1465.77 642.083 1471.55 M637.824 1470.3 Q637.777 1466.81 635.856 1464.72 Q633.958 1462.64 630.81 1462.64 Q627.245 1462.64 625.092 1464.65 Q622.963 1466.67 622.639 1470.33 L637.824 1470.3 Z\" fill=\"#000000\" fill-rule=\"nonzero\" fill-opacity=\"1\" /><path clip-path=\"url(#clip130)\" d=\"M649.074 1449.56 L653.333 1449.56 L653.333 1485.58 L649.074 1485.58 L649.074 1449.56 Z\" fill=\"#000000\" fill-rule=\"nonzero\" fill-opacity=\"1\" /><path clip-path=\"url(#clip130)\" d=\"M662.245 1459.65 L666.504 1459.65 L666.504 1485.58 L662.245 1485.58 L662.245 1459.65 M662.245 1449.56 L666.504 1449.56 L666.504 1454.96 L662.245 1454.96 L662.245 1449.56 Z\" fill=\"#000000\" fill-rule=\"nonzero\" fill-opacity=\"1\" /><path clip-path=\"url(#clip130)\" d=\"M696.967 1469.93 L696.967 1485.58 L692.708 1485.58 L692.708 1470.07 Q692.708 1466.39 691.273 1464.56 Q689.837 1462.73 686.967 1462.73 Q683.518 1462.73 681.527 1464.93 Q679.536 1467.13 679.536 1470.93 L679.536 1485.58 L675.254 1485.58 L675.254 1459.65 L679.536 1459.65 L679.536 1463.68 Q681.064 1461.34 683.124 1460.19 Q685.208 1459.03 687.916 1459.03 Q692.384 1459.03 694.675 1461.81 Q696.967 1464.56 696.967 1469.93 Z\" fill=\"#000000\" fill-rule=\"nonzero\" fill-opacity=\"1\" /><path clip-path=\"url(#clip130)\" d=\"M727.638 1471.55 L727.638 1473.64 L708.055 1473.64 Q708.333 1478.03 710.694 1480.35 Q713.078 1482.64 717.314 1482.64 Q719.768 1482.64 722.059 1482.04 Q724.374 1481.44 726.643 1480.23 L726.643 1484.26 Q724.351 1485.23 721.944 1485.74 Q719.536 1486.25 717.059 1486.25 Q710.856 1486.25 707.222 1482.64 Q703.61 1479.03 703.61 1472.87 Q703.61 1466.51 707.036 1462.78 Q710.485 1459.03 716.319 1459.03 Q721.55 1459.03 724.583 1462.41 Q727.638 1465.77 727.638 1471.55 M723.379 1470.3 Q723.333 1466.81 721.411 1464.72 Q719.513 1462.64 716.365 1462.64 Q712.8 1462.64 710.647 1464.65 Q708.518 1466.67 708.194 1470.33 L723.379 1470.3 Z\" fill=\"#000000\" fill-rule=\"nonzero\" fill-opacity=\"1\" /><path clip-path=\"url(#clip130)\" d=\"M915.644 1451.02 L922.612 1451.02 L931.431 1474.54 L940.297 1451.02 L947.264 1451.02 L947.264 1485.58 L942.704 1485.58 L942.704 1455.23 L933.792 1478.94 L929.093 1478.94 L920.181 1455.23 L920.181 1485.58 L915.644 1485.58 L915.644 1451.02 Z\" fill=\"#000000\" fill-rule=\"nonzero\" fill-opacity=\"1\" /><path clip-path=\"url(#clip130)\" d=\"M966.408 1462.64 Q962.982 1462.64 960.991 1465.33 Q959 1467.99 959 1472.64 Q959 1477.29 960.968 1479.98 Q962.959 1482.64 966.408 1482.64 Q969.81 1482.64 971.801 1479.95 Q973.792 1477.27 973.792 1472.64 Q973.792 1468.03 971.801 1465.35 Q969.81 1462.64 966.408 1462.64 M966.408 1459.03 Q971.963 1459.03 975.134 1462.64 Q978.306 1466.25 978.306 1472.64 Q978.306 1479.01 975.134 1482.64 Q971.963 1486.25 966.408 1486.25 Q960.829 1486.25 957.658 1482.64 Q954.51 1479.01 954.51 1472.64 Q954.51 1466.25 957.658 1462.64 Q960.829 1459.03 966.408 1459.03 Z\" fill=\"#000000\" fill-rule=\"nonzero\" fill-opacity=\"1\" /><path clip-path=\"url(#clip130)\" d=\"M1002.43 1463.59 L1002.43 1449.56 L1006.69 1449.56 L1006.69 1485.58 L1002.43 1485.58 L1002.43 1481.69 Q1001.08 1484.01 999.023 1485.14 Q996.986 1486.25 994.116 1486.25 Q989.417 1486.25 986.454 1482.5 Q983.514 1478.75 983.514 1472.64 Q983.514 1466.53 986.454 1462.78 Q989.417 1459.03 994.116 1459.03 Q996.986 1459.03 999.023 1460.16 Q1001.08 1461.27 1002.43 1463.59 M987.912 1472.64 Q987.912 1477.34 989.833 1480.02 Q991.778 1482.69 995.158 1482.69 Q998.537 1482.69 1000.48 1480.02 Q1002.43 1477.34 1002.43 1472.64 Q1002.43 1467.94 1000.48 1465.28 Q998.537 1462.59 995.158 1462.59 Q991.778 1462.59 989.833 1465.28 Q987.912 1467.94 987.912 1472.64 Z\" fill=\"#000000\" fill-rule=\"nonzero\" fill-opacity=\"1\" /><path clip-path=\"url(#clip130)\" d=\"M1037.63 1471.55 L1037.63 1473.64 L1018.05 1473.64 Q1018.33 1478.03 1020.69 1480.35 Q1023.07 1482.64 1027.31 1482.64 Q1029.76 1482.64 1032.06 1482.04 Q1034.37 1481.44 1036.64 1480.23 L1036.64 1484.26 Q1034.35 1485.23 1031.94 1485.74 Q1029.53 1486.25 1027.06 1486.25 Q1020.85 1486.25 1017.22 1482.64 Q1013.61 1479.03 1013.61 1472.87 Q1013.61 1466.51 1017.03 1462.78 Q1020.48 1459.03 1026.31 1459.03 Q1031.55 1459.03 1034.58 1462.41 Q1037.63 1465.77 1037.63 1471.55 M1033.37 1470.3 Q1033.33 1466.81 1031.41 1464.72 Q1029.51 1462.64 1026.36 1462.64 Q1022.8 1462.64 1020.64 1464.65 Q1018.51 1466.67 1018.19 1470.33 L1033.37 1470.3 Z\" fill=\"#000000\" fill-rule=\"nonzero\" fill-opacity=\"1\" /><path clip-path=\"url(#clip130)\" d=\"M1044.62 1449.56 L1048.88 1449.56 L1048.88 1485.58 L1044.62 1485.58 L1044.62 1449.56 Z\" fill=\"#000000\" fill-rule=\"nonzero\" fill-opacity=\"1\" /><path clip-path=\"url(#clip130)\" d=\"M1059.21 1481.64 L1066.85 1481.64 L1066.85 1455.28 L1058.54 1456.95 L1058.54 1452.69 L1066.8 1451.02 L1071.48 1451.02 L1071.48 1481.64 L1079.12 1481.64 L1079.12 1485.58 L1059.21 1485.58 L1059.21 1481.64 Z\" fill=\"#000000\" fill-rule=\"nonzero\" fill-opacity=\"1\" /><path clip-path=\"url(#clip130)\" d=\"M1282.48 1451.02 L1289.45 1451.02 L1298.27 1474.54 L1307.13 1451.02 L1314.1 1451.02 L1314.1 1485.58 L1309.54 1485.58 L1309.54 1455.23 L1300.63 1478.94 L1295.93 1478.94 L1287.02 1455.23 L1287.02 1485.58 L1282.48 1485.58 L1282.48 1451.02 Z\" fill=\"#000000\" fill-rule=\"nonzero\" fill-opacity=\"1\" /><path clip-path=\"url(#clip130)\" d=\"M1333.24 1462.64 Q1329.82 1462.64 1327.83 1465.33 Q1325.84 1467.99 1325.84 1472.64 Q1325.84 1477.29 1327.8 1479.98 Q1329.79 1482.64 1333.24 1482.64 Q1336.65 1482.64 1338.64 1479.95 Q1340.63 1477.27 1340.63 1472.64 Q1340.63 1468.03 1338.64 1465.35 Q1336.65 1462.64 1333.24 1462.64 M1333.24 1459.03 Q1338.8 1459.03 1341.97 1462.64 Q1345.14 1466.25 1345.14 1472.64 Q1345.14 1479.01 1341.97 1482.64 Q1338.8 1486.25 1333.24 1486.25 Q1327.67 1486.25 1324.49 1482.64 Q1321.35 1479.01 1321.35 1472.64 Q1321.35 1466.25 1324.49 1462.64 Q1327.67 1459.03 1333.24 1459.03 Z\" fill=\"#000000\" fill-rule=\"nonzero\" fill-opacity=\"1\" /><path clip-path=\"url(#clip130)\" d=\"M1369.26 1463.59 L1369.26 1449.56 L1373.52 1449.56 L1373.52 1485.58 L1369.26 1485.58 L1369.26 1481.69 Q1367.92 1484.01 1365.86 1485.14 Q1363.82 1486.25 1360.95 1486.25 Q1356.25 1486.25 1353.29 1482.5 Q1350.35 1478.75 1350.35 1472.64 Q1350.35 1466.53 1353.29 1462.78 Q1356.25 1459.03 1360.95 1459.03 Q1363.82 1459.03 1365.86 1460.16 Q1367.92 1461.27 1369.26 1463.59 M1354.75 1472.64 Q1354.75 1477.34 1356.67 1480.02 Q1358.61 1482.69 1361.99 1482.69 Q1365.37 1482.69 1367.32 1480.02 Q1369.26 1477.34 1369.26 1472.64 Q1369.26 1467.94 1367.32 1465.28 Q1365.37 1462.59 1361.99 1462.59 Q1358.61 1462.59 1356.67 1465.28 Q1354.75 1467.94 1354.75 1472.64 Z\" fill=\"#000000\" fill-rule=\"nonzero\" fill-opacity=\"1\" /><path clip-path=\"url(#clip130)\" d=\"M1404.47 1471.55 L1404.47 1473.64 L1384.89 1473.64 Q1385.16 1478.03 1387.53 1480.35 Q1389.91 1482.64 1394.15 1482.64 Q1396.6 1482.64 1398.89 1482.04 Q1401.21 1481.44 1403.47 1480.23 L1403.47 1484.26 Q1401.18 1485.23 1398.78 1485.74 Q1396.37 1486.25 1393.89 1486.25 Q1387.69 1486.25 1384.05 1482.64 Q1380.44 1479.03 1380.44 1472.87 Q1380.44 1466.51 1383.87 1462.78 Q1387.32 1459.03 1393.15 1459.03 Q1398.38 1459.03 1401.41 1462.41 Q1404.47 1465.77 1404.47 1471.55 M1400.21 1470.3 Q1400.16 1466.81 1398.24 1464.72 Q1396.35 1462.64 1393.2 1462.64 Q1389.63 1462.64 1387.48 1464.65 Q1385.35 1466.67 1385.03 1470.33 L1400.21 1470.3 Z\" fill=\"#000000\" fill-rule=\"nonzero\" fill-opacity=\"1\" /><path clip-path=\"url(#clip130)\" d=\"M1411.46 1449.56 L1415.72 1449.56 L1415.72 1485.58 L1411.46 1485.58 L1411.46 1449.56 Z\" fill=\"#000000\" fill-rule=\"nonzero\" fill-opacity=\"1\" /><path clip-path=\"url(#clip130)\" d=\"M1429.26 1481.64 L1445.58 1481.64 L1445.58 1485.58 L1423.64 1485.58 L1423.64 1481.64 Q1426.3 1478.89 1430.88 1474.26 Q1435.49 1469.61 1436.67 1468.27 Q1438.91 1465.74 1439.79 1464.01 Q1440.7 1462.25 1440.7 1460.56 Q1440.7 1457.8 1438.75 1456.07 Q1436.83 1454.33 1433.73 1454.33 Q1431.53 1454.33 1429.08 1455.09 Q1426.65 1455.86 1423.87 1457.41 L1423.87 1452.69 Q1426.69 1451.55 1429.15 1450.97 Q1431.6 1450.39 1433.64 1450.39 Q1439.01 1450.39 1442.2 1453.08 Q1445.4 1455.77 1445.4 1460.26 Q1445.4 1462.39 1444.59 1464.31 Q1443.8 1466.2 1441.69 1468.8 Q1441.11 1469.47 1438.01 1472.69 Q1434.91 1475.88 1429.26 1481.64 Z\" fill=\"#000000\" fill-rule=\"nonzero\" fill-opacity=\"1\" /><path clip-path=\"url(#clip130)\" d=\"M1648.66 1451.02 L1655.62 1451.02 L1664.44 1474.54 L1673.31 1451.02 L1680.28 1451.02 L1680.28 1485.58 L1675.72 1485.58 L1675.72 1455.23 L1666.8 1478.94 L1662.11 1478.94 L1653.19 1455.23 L1653.19 1485.58 L1648.66 1485.58 L1648.66 1451.02 Z\" fill=\"#000000\" fill-rule=\"nonzero\" fill-opacity=\"1\" /><path clip-path=\"url(#clip130)\" d=\"M1699.42 1462.64 Q1695.99 1462.64 1694 1465.33 Q1692.01 1467.99 1692.01 1472.64 Q1692.01 1477.29 1693.98 1479.98 Q1695.97 1482.64 1699.42 1482.64 Q1702.82 1482.64 1704.81 1479.95 Q1706.8 1477.27 1706.8 1472.64 Q1706.8 1468.03 1704.81 1465.35 Q1702.82 1462.64 1699.42 1462.64 M1699.42 1459.03 Q1704.98 1459.03 1708.15 1462.64 Q1711.32 1466.25 1711.32 1472.64 Q1711.32 1479.01 1708.15 1482.64 Q1704.98 1486.25 1699.42 1486.25 Q1693.84 1486.25 1690.67 1482.64 Q1687.52 1479.01 1687.52 1472.64 Q1687.52 1466.25 1690.67 1462.64 Q1693.84 1459.03 1699.42 1459.03 Z\" fill=\"#000000\" fill-rule=\"nonzero\" fill-opacity=\"1\" /><path clip-path=\"url(#clip130)\" d=\"M1735.44 1463.59 L1735.44 1449.56 L1739.7 1449.56 L1739.7 1485.58 L1735.44 1485.58 L1735.44 1481.69 Q1734.1 1484.01 1732.04 1485.14 Q1730 1486.25 1727.13 1486.25 Q1722.43 1486.25 1719.47 1482.5 Q1716.53 1478.75 1716.53 1472.64 Q1716.53 1466.53 1719.47 1462.78 Q1722.43 1459.03 1727.13 1459.03 Q1730 1459.03 1732.04 1460.16 Q1734.1 1461.27 1735.44 1463.59 M1720.92 1472.64 Q1720.92 1477.34 1722.85 1480.02 Q1724.79 1482.69 1728.17 1482.69 Q1731.55 1482.69 1733.49 1480.02 Q1735.44 1477.34 1735.44 1472.64 Q1735.44 1467.94 1733.49 1465.28 Q1731.55 1462.59 1728.17 1462.59 Q1724.79 1462.59 1722.85 1465.28 Q1720.92 1467.94 1720.92 1472.64 Z\" fill=\"#000000\" fill-rule=\"nonzero\" fill-opacity=\"1\" /><path clip-path=\"url(#clip130)\" d=\"M1770.65 1471.55 L1770.65 1473.64 L1751.06 1473.64 Q1751.34 1478.03 1753.7 1480.35 Q1756.09 1482.64 1760.32 1482.64 Q1762.78 1482.64 1765.07 1482.04 Q1767.38 1481.44 1769.65 1480.23 L1769.65 1484.26 Q1767.36 1485.23 1764.95 1485.74 Q1762.54 1486.25 1760.07 1486.25 Q1753.86 1486.25 1750.23 1482.64 Q1746.62 1479.03 1746.62 1472.87 Q1746.62 1466.51 1750.04 1462.78 Q1753.49 1459.03 1759.33 1459.03 Q1764.56 1459.03 1767.59 1462.41 Q1770.65 1465.77 1770.65 1471.55 M1766.39 1470.3 Q1766.34 1466.81 1764.42 1464.72 Q1762.52 1462.64 1759.37 1462.64 Q1755.81 1462.64 1753.66 1464.65 Q1751.53 1466.67 1751.2 1470.33 L1766.39 1470.3 Z\" fill=\"#000000\" fill-rule=\"nonzero\" fill-opacity=\"1\" /><path clip-path=\"url(#clip130)\" d=\"M1777.64 1449.56 L1781.9 1449.56 L1781.9 1485.58 L1777.64 1485.58 L1777.64 1449.56 Z\" fill=\"#000000\" fill-rule=\"nonzero\" fill-opacity=\"1\" /><path clip-path=\"url(#clip130)\" d=\"M1805.58 1466.95 Q1808.93 1467.66 1810.81 1469.93 Q1812.71 1472.2 1812.71 1475.53 Q1812.71 1480.65 1809.19 1483.45 Q1805.67 1486.25 1799.19 1486.25 Q1797.01 1486.25 1794.7 1485.81 Q1792.41 1485.39 1789.95 1484.54 L1789.95 1480.02 Q1791.9 1481.16 1794.21 1481.74 Q1796.53 1482.32 1799.05 1482.32 Q1803.45 1482.32 1805.74 1480.58 Q1808.05 1478.84 1808.05 1475.53 Q1808.05 1472.48 1805.9 1470.77 Q1803.77 1469.03 1799.95 1469.03 L1795.92 1469.03 L1795.92 1465.19 L1800.14 1465.19 Q1803.59 1465.19 1805.41 1463.82 Q1807.24 1462.43 1807.24 1459.84 Q1807.24 1457.18 1805.35 1455.77 Q1803.47 1454.33 1799.95 1454.33 Q1798.03 1454.33 1795.83 1454.75 Q1793.63 1455.16 1790.99 1456.04 L1790.99 1451.88 Q1793.66 1451.14 1795.97 1450.77 Q1798.31 1450.39 1800.37 1450.39 Q1805.69 1450.39 1808.79 1452.83 Q1811.9 1455.23 1811.9 1459.35 Q1811.9 1462.22 1810.25 1464.21 Q1808.61 1466.18 1805.58 1466.95 Z\" fill=\"#000000\" fill-rule=\"nonzero\" fill-opacity=\"1\" /><path clip-path=\"url(#clip130)\" d=\"M2014.74 1451.02 L2021.71 1451.02 L2030.53 1474.54 L2039.39 1451.02 L2046.36 1451.02 L2046.36 1485.58 L2041.8 1485.58 L2041.8 1455.23 L2032.89 1478.94 L2028.19 1478.94 L2019.28 1455.23 L2019.28 1485.58 L2014.74 1485.58 L2014.74 1451.02 Z\" fill=\"#000000\" fill-rule=\"nonzero\" fill-opacity=\"1\" /><path clip-path=\"url(#clip130)\" d=\"M2065.5 1462.64 Q2062.08 1462.64 2060.09 1465.33 Q2058.1 1467.99 2058.1 1472.64 Q2058.1 1477.29 2060.06 1479.98 Q2062.05 1482.64 2065.5 1482.64 Q2068.91 1482.64 2070.9 1479.95 Q2072.89 1477.27 2072.89 1472.64 Q2072.89 1468.03 2070.9 1465.35 Q2068.91 1462.64 2065.5 1462.64 M2065.5 1459.03 Q2071.06 1459.03 2074.23 1462.64 Q2077.4 1466.25 2077.4 1472.64 Q2077.4 1479.01 2074.23 1482.64 Q2071.06 1486.25 2065.5 1486.25 Q2059.93 1486.25 2056.75 1482.64 Q2053.61 1479.01 2053.61 1472.64 Q2053.61 1466.25 2056.75 1462.64 Q2059.93 1459.03 2065.5 1459.03 Z\" fill=\"#000000\" fill-rule=\"nonzero\" fill-opacity=\"1\" /><path clip-path=\"url(#clip130)\" d=\"M2101.52 1463.59 L2101.52 1449.56 L2105.78 1449.56 L2105.78 1485.58 L2101.52 1485.58 L2101.52 1481.69 Q2100.18 1484.01 2098.12 1485.14 Q2096.08 1486.25 2093.21 1486.25 Q2088.51 1486.25 2085.55 1482.5 Q2082.61 1478.75 2082.61 1472.64 Q2082.61 1466.53 2085.55 1462.78 Q2088.51 1459.03 2093.21 1459.03 Q2096.08 1459.03 2098.12 1460.16 Q2100.18 1461.27 2101.52 1463.59 M2087.01 1472.64 Q2087.01 1477.34 2088.93 1480.02 Q2090.87 1482.69 2094.25 1482.69 Q2097.63 1482.69 2099.58 1480.02 Q2101.52 1477.34 2101.52 1472.64 Q2101.52 1467.94 2099.58 1465.28 Q2097.63 1462.59 2094.25 1462.59 Q2090.87 1462.59 2088.93 1465.28 Q2087.01 1467.94 2087.01 1472.64 Z\" fill=\"#000000\" fill-rule=\"nonzero\" fill-opacity=\"1\" /><path clip-path=\"url(#clip130)\" d=\"M2136.73 1471.55 L2136.73 1473.64 L2117.15 1473.64 Q2117.42 1478.03 2119.79 1480.35 Q2122.17 1482.64 2126.41 1482.64 Q2128.86 1482.64 2131.15 1482.04 Q2133.47 1481.44 2135.73 1480.23 L2135.73 1484.26 Q2133.44 1485.23 2131.04 1485.74 Q2128.63 1486.25 2126.15 1486.25 Q2119.95 1486.25 2116.31 1482.64 Q2112.7 1479.03 2112.7 1472.87 Q2112.7 1466.51 2116.13 1462.78 Q2119.58 1459.03 2125.41 1459.03 Q2130.64 1459.03 2133.67 1462.41 Q2136.73 1465.77 2136.73 1471.55 M2132.47 1470.3 Q2132.42 1466.81 2130.5 1464.72 Q2128.61 1462.64 2125.46 1462.64 Q2121.89 1462.64 2119.74 1464.65 Q2117.61 1466.67 2117.29 1470.33 L2132.47 1470.3 Z\" fill=\"#000000\" fill-rule=\"nonzero\" fill-opacity=\"1\" /><path clip-path=\"url(#clip130)\" d=\"M2143.72 1449.56 L2147.98 1449.56 L2147.98 1485.58 L2143.72 1485.58 L2143.72 1449.56 Z\" fill=\"#000000\" fill-rule=\"nonzero\" fill-opacity=\"1\" /><path clip-path=\"url(#clip130)\" d=\"M2170.34 1455.09 L2158.54 1473.54 L2170.34 1473.54 L2170.34 1455.09 M2169.11 1451.02 L2174.99 1451.02 L2174.99 1473.54 L2179.92 1473.54 L2179.92 1477.43 L2174.99 1477.43 L2174.99 1485.58 L2170.34 1485.58 L2170.34 1477.43 L2154.74 1477.43 L2154.74 1472.92 L2169.11 1451.02 Z\" fill=\"#000000\" fill-rule=\"nonzero\" fill-opacity=\"1\" /><path clip-path=\"url(#clip130)\" d=\"M1272.43 1520.52 L1282.01 1520.52 L1294.14 1552.86 L1306.33 1520.52 L1315.91 1520.52 L1315.91 1568.04 L1309.64 1568.04 L1309.64 1526.32 L1297.38 1558.91 L1290.92 1558.91 L1278.67 1526.32 L1278.67 1568.04 L1272.43 1568.04 L1272.43 1520.52 Z\" fill=\"#000000\" fill-rule=\"nonzero\" fill-opacity=\"1\" /><path clip-path=\"url(#clip130)\" d=\"M1342.23 1536.5 Q1337.52 1536.5 1334.78 1540.19 Q1332.04 1543.85 1332.04 1550.25 Q1332.04 1556.65 1334.75 1560.34 Q1337.49 1564 1342.23 1564 Q1346.91 1564 1349.64 1560.31 Q1352.38 1556.62 1352.38 1550.25 Q1352.38 1543.92 1349.64 1540.23 Q1346.91 1536.5 1342.23 1536.5 M1342.23 1531.54 Q1349.87 1531.54 1354.23 1536.5 Q1358.59 1541.47 1358.59 1550.25 Q1358.59 1559 1354.23 1564 Q1349.87 1568.97 1342.23 1568.97 Q1334.56 1568.97 1330.2 1564 Q1325.87 1559 1325.87 1550.25 Q1325.87 1541.47 1330.2 1536.5 Q1334.56 1531.54 1342.23 1531.54 Z\" fill=\"#000000\" fill-rule=\"nonzero\" fill-opacity=\"1\" /><path clip-path=\"url(#clip130)\" d=\"M1391.75 1537.81 L1391.75 1518.52 L1397.61 1518.52 L1397.61 1568.04 L1391.75 1568.04 L1391.75 1562.7 Q1389.91 1565.88 1387.07 1567.44 Q1384.27 1568.97 1380.33 1568.97 Q1373.87 1568.97 1369.79 1563.81 Q1365.75 1558.65 1365.75 1550.25 Q1365.75 1541.85 1369.79 1536.69 Q1373.87 1531.54 1380.33 1531.54 Q1384.27 1531.54 1387.07 1533.1 Q1389.91 1534.62 1391.75 1537.81 M1371.8 1550.25 Q1371.8 1556.71 1374.44 1560.4 Q1377.11 1564.07 1381.76 1564.07 Q1386.41 1564.07 1389.08 1560.4 Q1391.75 1556.71 1391.75 1550.25 Q1391.75 1543.79 1389.08 1540.13 Q1386.41 1536.44 1381.76 1536.44 Q1377.11 1536.44 1374.44 1540.13 Q1371.8 1543.79 1371.8 1550.25 Z\" fill=\"#000000\" fill-rule=\"nonzero\" fill-opacity=\"1\" /><path clip-path=\"url(#clip130)\" d=\"M1440.16 1548.76 L1440.16 1551.62 L1413.24 1551.62 Q1413.62 1557.67 1416.87 1560.85 Q1420.14 1564 1425.97 1564 Q1429.34 1564 1432.49 1563.17 Q1435.68 1562.35 1438.8 1560.69 L1438.8 1566.23 Q1435.64 1567.57 1432.33 1568.27 Q1429.02 1568.97 1425.62 1568.97 Q1417.09 1568.97 1412.09 1564 Q1407.13 1559.04 1407.13 1550.57 Q1407.13 1541.82 1411.84 1536.69 Q1416.58 1531.54 1424.6 1531.54 Q1431.79 1531.54 1435.96 1536.18 Q1440.16 1540.8 1440.16 1548.76 M1434.31 1547.04 Q1434.24 1542.23 1431.6 1539.37 Q1428.99 1536.5 1424.66 1536.5 Q1419.76 1536.5 1416.8 1539.27 Q1413.87 1542.04 1413.43 1547.07 L1434.31 1547.04 Z\" fill=\"#000000\" fill-rule=\"nonzero\" fill-opacity=\"1\" /><path clip-path=\"url(#clip130)\" d=\"M1449.78 1518.52 L1455.63 1518.52 L1455.63 1568.04 L1449.78 1568.04 L1449.78 1518.52 Z\" fill=\"#000000\" fill-rule=\"nonzero\" fill-opacity=\"1\" /><polyline clip-path=\"url(#clip132)\" style=\"stroke:#000000; stroke-linecap:round; stroke-linejoin:round; stroke-width:2; stroke-opacity:0.1; fill:none\" points=\"375.305,1224.18 2352.76,1224.18 \"/>\n",
       "<polyline clip-path=\"url(#clip132)\" style=\"stroke:#000000; stroke-linecap:round; stroke-linejoin:round; stroke-width:2; stroke-opacity:0.1; fill:none\" points=\"375.305,916.314 2352.76,916.314 \"/>\n",
       "<polyline clip-path=\"url(#clip132)\" style=\"stroke:#000000; stroke-linecap:round; stroke-linejoin:round; stroke-width:2; stroke-opacity:0.1; fill:none\" points=\"375.305,608.449 2352.76,608.449 \"/>\n",
       "<polyline clip-path=\"url(#clip132)\" style=\"stroke:#000000; stroke-linecap:round; stroke-linejoin:round; stroke-width:2; stroke-opacity:0.1; fill:none\" points=\"375.305,300.584 2352.76,300.584 \"/>\n",
       "<polyline clip-path=\"url(#clip130)\" style=\"stroke:#000000; stroke-linecap:round; stroke-linejoin:round; stroke-width:4; stroke-opacity:1; fill:none\" points=\"375.305,1423.18 375.305,47.2441 \"/>\n",
       "<polyline clip-path=\"url(#clip130)\" style=\"stroke:#000000; stroke-linecap:round; stroke-linejoin:round; stroke-width:4; stroke-opacity:1; fill:none\" points=\"375.305,1224.18 394.203,1224.18 \"/>\n",
       "<polyline clip-path=\"url(#clip130)\" style=\"stroke:#000000; stroke-linecap:round; stroke-linejoin:round; stroke-width:4; stroke-opacity:1; fill:none\" points=\"375.305,916.314 394.203,916.314 \"/>\n",
       "<polyline clip-path=\"url(#clip130)\" style=\"stroke:#000000; stroke-linecap:round; stroke-linejoin:round; stroke-width:4; stroke-opacity:1; fill:none\" points=\"375.305,608.449 394.203,608.449 \"/>\n",
       "<polyline clip-path=\"url(#clip130)\" style=\"stroke:#000000; stroke-linecap:round; stroke-linejoin:round; stroke-width:4; stroke-opacity:1; fill:none\" points=\"375.305,300.584 394.203,300.584 \"/>\n",
       "<path clip-path=\"url(#clip130)\" d=\"M114.26 1231.08 L143.936 1231.08 L143.936 1235.01 L114.26 1235.01 L114.26 1231.08 Z\" fill=\"#000000\" fill-rule=\"nonzero\" fill-opacity=\"1\" /><path clip-path=\"url(#clip130)\" d=\"M158.056 1243.97 L174.376 1243.97 L174.376 1247.91 L152.431 1247.91 L152.431 1243.97 Q155.093 1241.22 159.677 1236.59 Q164.283 1231.93 165.464 1230.59 Q167.709 1228.07 168.589 1226.33 Q169.491 1224.57 169.491 1222.88 Q169.491 1220.13 167.547 1218.39 Q165.626 1216.66 162.524 1216.66 Q160.325 1216.66 157.871 1217.42 Q155.44 1218.18 152.663 1219.73 L152.663 1215.01 Q155.487 1213.88 157.94 1213.3 Q160.394 1212.72 162.431 1212.72 Q167.802 1212.72 170.996 1215.41 Q174.19 1218.09 174.19 1222.58 Q174.19 1224.71 173.38 1226.63 Q172.593 1228.53 170.487 1231.12 Q169.908 1231.79 166.806 1235.01 Q163.704 1238.21 158.056 1243.97 Z\" fill=\"#000000\" fill-rule=\"nonzero\" fill-opacity=\"1\" /><path clip-path=\"url(#clip130)\" d=\"M184.19 1242.03 L189.075 1242.03 L189.075 1247.91 L184.19 1247.91 L184.19 1242.03 Z\" fill=\"#000000\" fill-rule=\"nonzero\" fill-opacity=\"1\" /><path clip-path=\"url(#clip130)\" d=\"M209.26 1216.42 Q205.649 1216.42 203.82 1219.99 Q202.014 1223.53 202.014 1230.66 Q202.014 1237.77 203.82 1241.33 Q205.649 1244.87 209.26 1244.87 Q212.894 1244.87 214.699 1241.33 Q216.528 1237.77 216.528 1230.66 Q216.528 1223.53 214.699 1219.99 Q212.894 1216.42 209.26 1216.42 M209.26 1212.72 Q215.07 1212.72 218.125 1217.33 Q221.204 1221.91 221.204 1230.66 Q221.204 1239.39 218.125 1243.99 Q215.07 1248.58 209.26 1248.58 Q203.449 1248.58 200.371 1243.99 Q197.315 1239.39 197.315 1230.66 Q197.315 1221.91 200.371 1217.33 Q203.449 1212.72 209.26 1212.72 Z\" fill=\"#000000\" fill-rule=\"nonzero\" fill-opacity=\"1\" /><path clip-path=\"url(#clip130)\" d=\"M257.593 1222.44 L247.014 1233.07 L257.593 1243.65 L254.838 1246.45 L244.213 1235.82 L233.588 1246.45 L230.857 1243.65 L241.412 1233.07 L230.857 1222.44 L233.588 1219.64 L244.213 1230.27 L254.838 1219.64 L257.593 1222.44 Z\" fill=\"#000000\" fill-rule=\"nonzero\" fill-opacity=\"1\" /><path clip-path=\"url(#clip130)\" d=\"M269.954 1243.97 L277.593 1243.97 L277.593 1217.6 L269.282 1219.27 L269.282 1215.01 L277.546 1213.35 L282.222 1213.35 L282.222 1243.97 L289.861 1243.97 L289.861 1247.91 L269.954 1247.91 L269.954 1243.97 Z\" fill=\"#000000\" fill-rule=\"nonzero\" fill-opacity=\"1\" /><path clip-path=\"url(#clip130)\" d=\"M309.305 1216.42 Q305.694 1216.42 303.866 1219.99 Q302.06 1223.53 302.06 1230.66 Q302.06 1237.77 303.866 1241.33 Q305.694 1244.87 309.305 1244.87 Q312.94 1244.87 314.745 1241.33 Q316.574 1237.77 316.574 1230.66 Q316.574 1223.53 314.745 1219.99 Q312.94 1216.42 309.305 1216.42 M309.305 1212.72 Q315.116 1212.72 318.171 1217.33 Q321.25 1221.91 321.25 1230.66 Q321.25 1239.39 318.171 1243.99 Q315.116 1248.58 309.305 1248.58 Q303.495 1248.58 300.417 1243.99 Q297.361 1239.39 297.361 1230.66 Q297.361 1221.91 300.417 1217.33 Q303.495 1212.72 309.305 1212.72 Z\" fill=\"#000000\" fill-rule=\"nonzero\" fill-opacity=\"1\" /><path clip-path=\"url(#clip130)\" d=\"M321.25 1192.42 L339.305 1192.42 L339.305 1194.03 L329.111 1220.5 L325.143 1220.5 L334.735 1195.61 L321.25 1195.61 L321.25 1192.42 Z\" fill=\"#000000\" fill-rule=\"nonzero\" fill-opacity=\"1\" /><path clip-path=\"url(#clip130)\" d=\"M114.26 923.213 L143.936 923.213 L143.936 927.148 L114.26 927.148 L114.26 923.213 Z\" fill=\"#000000\" fill-rule=\"nonzero\" fill-opacity=\"1\" /><path clip-path=\"url(#clip130)\" d=\"M154.839 936.106 L162.477 936.106 L162.477 909.74 L154.167 911.407 L154.167 907.148 L162.431 905.481 L167.107 905.481 L167.107 936.106 L174.746 936.106 L174.746 940.041 L154.839 940.041 L154.839 936.106 Z\" fill=\"#000000\" fill-rule=\"nonzero\" fill-opacity=\"1\" /><path clip-path=\"url(#clip130)\" d=\"M184.19 934.162 L189.075 934.162 L189.075 940.041 L184.19 940.041 L184.19 934.162 Z\" fill=\"#000000\" fill-rule=\"nonzero\" fill-opacity=\"1\" /><path clip-path=\"url(#clip130)\" d=\"M209.26 908.56 Q205.649 908.56 203.82 912.125 Q202.014 915.666 202.014 922.796 Q202.014 929.902 203.82 933.467 Q205.649 937.009 209.26 937.009 Q212.894 937.009 214.699 933.467 Q216.528 929.902 216.528 922.796 Q216.528 915.666 214.699 912.125 Q212.894 908.56 209.26 908.56 M209.26 904.856 Q215.07 904.856 218.125 909.463 Q221.204 914.046 221.204 922.796 Q221.204 931.523 218.125 936.129 Q215.07 940.712 209.26 940.712 Q203.449 940.712 200.371 936.129 Q197.315 931.523 197.315 922.796 Q197.315 914.046 200.371 909.463 Q203.449 904.856 209.26 904.856 Z\" fill=\"#000000\" fill-rule=\"nonzero\" fill-opacity=\"1\" /><path clip-path=\"url(#clip130)\" d=\"M257.593 914.578 L247.014 925.203 L257.593 935.782 L254.838 938.583 L244.213 927.958 L233.588 938.583 L230.857 935.782 L241.412 925.203 L230.857 914.578 L233.588 911.777 L244.213 922.402 L254.838 911.777 L257.593 914.578 Z\" fill=\"#000000\" fill-rule=\"nonzero\" fill-opacity=\"1\" /><path clip-path=\"url(#clip130)\" d=\"M269.954 936.106 L277.593 936.106 L277.593 909.74 L269.282 911.407 L269.282 907.148 L277.546 905.481 L282.222 905.481 L282.222 936.106 L289.861 936.106 L289.861 940.041 L269.954 940.041 L269.954 936.106 Z\" fill=\"#000000\" fill-rule=\"nonzero\" fill-opacity=\"1\" /><path clip-path=\"url(#clip130)\" d=\"M309.305 908.56 Q305.694 908.56 303.866 912.125 Q302.06 915.666 302.06 922.796 Q302.06 929.902 303.866 933.467 Q305.694 937.009 309.305 937.009 Q312.94 937.009 314.745 933.467 Q316.574 929.902 316.574 922.796 Q316.574 915.666 314.745 912.125 Q312.94 908.56 309.305 908.56 M309.305 904.856 Q315.116 904.856 318.171 909.463 Q321.25 914.046 321.25 922.796 Q321.25 931.523 318.171 936.129 Q315.116 940.712 309.305 940.712 Q303.495 940.712 300.417 936.129 Q297.361 931.523 297.361 922.796 Q297.361 914.046 300.417 909.463 Q303.495 904.856 309.305 904.856 Z\" fill=\"#000000\" fill-rule=\"nonzero\" fill-opacity=\"1\" /><path clip-path=\"url(#clip130)\" d=\"M321.25 884.551 L339.305 884.551 L339.305 886.168 L329.111 912.631 L325.143 912.631 L334.735 887.748 L321.25 887.748 L321.25 884.551 Z\" fill=\"#000000\" fill-rule=\"nonzero\" fill-opacity=\"1\" /><path clip-path=\"url(#clip130)\" d=\"M327.361 594.248 Q323.75 594.248 321.921 597.813 Q320.116 601.354 320.116 608.484 Q320.116 615.59 321.921 619.155 Q323.75 622.697 327.361 622.697 Q330.995 622.697 332.801 619.155 Q334.629 615.59 334.629 608.484 Q334.629 601.354 332.801 597.813 Q330.995 594.248 327.361 594.248 M327.361 590.544 Q333.171 590.544 336.227 595.151 Q339.305 599.734 339.305 608.484 Q339.305 617.211 336.227 621.817 Q333.171 626.4 327.361 626.4 Q321.551 626.4 318.472 621.817 Q315.416 617.211 315.416 608.484 Q315.416 599.734 318.472 595.151 Q321.551 590.544 327.361 590.544 Z\" fill=\"#000000\" fill-rule=\"nonzero\" fill-opacity=\"1\" /><path clip-path=\"url(#clip130)\" d=\"M154.839 320.377 L162.477 320.377 L162.477 294.011 L154.167 295.678 L154.167 291.419 L162.431 289.752 L167.107 289.752 L167.107 320.377 L174.746 320.377 L174.746 324.312 L154.839 324.312 L154.839 320.377 Z\" fill=\"#000000\" fill-rule=\"nonzero\" fill-opacity=\"1\" /><path clip-path=\"url(#clip130)\" d=\"M184.19 318.432 L189.075 318.432 L189.075 324.312 L184.19 324.312 L184.19 318.432 Z\" fill=\"#000000\" fill-rule=\"nonzero\" fill-opacity=\"1\" /><path clip-path=\"url(#clip130)\" d=\"M209.26 292.831 Q205.649 292.831 203.82 296.396 Q202.014 299.937 202.014 307.067 Q202.014 314.173 203.82 317.738 Q205.649 321.28 209.26 321.28 Q212.894 321.28 214.699 317.738 Q216.528 314.173 216.528 307.067 Q216.528 299.937 214.699 296.396 Q212.894 292.831 209.26 292.831 M209.26 289.127 Q215.07 289.127 218.125 293.734 Q221.204 298.317 221.204 307.067 Q221.204 315.794 218.125 320.4 Q215.07 324.983 209.26 324.983 Q203.449 324.983 200.371 320.4 Q197.315 315.794 197.315 307.067 Q197.315 298.317 200.371 293.734 Q203.449 289.127 209.26 289.127 Z\" fill=\"#000000\" fill-rule=\"nonzero\" fill-opacity=\"1\" /><path clip-path=\"url(#clip130)\" d=\"M257.593 298.849 L247.014 309.474 L257.593 320.053 L254.838 322.854 L244.213 312.229 L233.588 322.854 L230.857 320.053 L241.412 309.474 L230.857 298.849 L233.588 296.048 L244.213 306.673 L254.838 296.048 L257.593 298.849 Z\" fill=\"#000000\" fill-rule=\"nonzero\" fill-opacity=\"1\" /><path clip-path=\"url(#clip130)\" d=\"M269.954 320.377 L277.593 320.377 L277.593 294.011 L269.282 295.678 L269.282 291.419 L277.546 289.752 L282.222 289.752 L282.222 320.377 L289.861 320.377 L289.861 324.312 L269.954 324.312 L269.954 320.377 Z\" fill=\"#000000\" fill-rule=\"nonzero\" fill-opacity=\"1\" /><path clip-path=\"url(#clip130)\" d=\"M309.305 292.831 Q305.694 292.831 303.866 296.396 Q302.06 299.937 302.06 307.067 Q302.06 314.173 303.866 317.738 Q305.694 321.28 309.305 321.28 Q312.94 321.28 314.745 317.738 Q316.574 314.173 316.574 307.067 Q316.574 299.937 314.745 296.396 Q312.94 292.831 309.305 292.831 M309.305 289.127 Q315.116 289.127 318.171 293.734 Q321.25 298.317 321.25 307.067 Q321.25 315.794 318.171 320.4 Q315.116 324.983 309.305 324.983 Q303.495 324.983 300.417 320.4 Q297.361 315.794 297.361 307.067 Q297.361 298.317 300.417 293.734 Q303.495 289.127 309.305 289.127 Z\" fill=\"#000000\" fill-rule=\"nonzero\" fill-opacity=\"1\" /><path clip-path=\"url(#clip130)\" d=\"M321.25 268.822 L339.305 268.822 L339.305 270.439 L329.111 296.902 L325.143 296.902 L334.735 272.019 L321.25 272.019 L321.25 268.822 Z\" fill=\"#000000\" fill-rule=\"nonzero\" fill-opacity=\"1\" /><path clip-path=\"url(#clip130)\" d=\"M21.7677 809.818 L39.6235 809.818 L39.6235 801.734 Q39.6235 797.246 37.3 794.795 Q34.9765 792.344 30.6797 792.344 Q26.4147 792.344 24.0912 794.795 Q21.7677 797.246 21.7677 801.734 L21.7677 809.818 M16.4842 816.247 L16.4842 801.734 Q16.4842 793.745 20.1126 789.671 Q23.7092 785.565 30.6797 785.565 Q37.7138 785.565 41.3104 789.671 Q44.907 793.745 44.907 801.734 L44.907 809.818 L64.0042 809.818 L64.0042 816.247 L16.4842 816.247 Z\" fill=\"#000000\" fill-rule=\"nonzero\" fill-opacity=\"1\" /><path clip-path=\"url(#clip130)\" d=\"M33.8307 757.683 Q33.2578 758.67 33.0032 759.847 Q32.7167 760.993 32.7167 762.394 Q32.7167 767.359 35.9632 770.032 Q39.1779 772.674 45.2253 772.674 L64.0042 772.674 L64.0042 778.562 L28.3562 778.562 L28.3562 772.674 L33.8944 772.674 Q30.6479 770.828 29.0883 767.868 Q27.4968 764.908 27.4968 760.675 Q27.4968 760.07 27.5923 759.338 Q27.656 758.606 27.8151 757.715 L33.8307 757.683 Z\" fill=\"#000000\" fill-rule=\"nonzero\" fill-opacity=\"1\" /><path clip-path=\"url(#clip130)\" d=\"M32.4621 739.159 Q32.4621 743.869 36.1542 746.607 Q39.8145 749.344 46.212 749.344 Q52.6095 749.344 56.3017 746.638 Q59.9619 743.901 59.9619 739.159 Q59.9619 734.48 56.2698 731.743 Q52.5777 729.005 46.212 729.005 Q39.8781 729.005 36.186 731.743 Q32.4621 734.48 32.4621 739.159 M27.4968 739.159 Q27.4968 731.52 32.4621 727.159 Q37.4273 722.799 46.212 722.799 Q54.9649 722.799 59.9619 727.159 Q64.9272 731.52 64.9272 739.159 Q64.9272 746.829 59.9619 751.19 Q54.9649 755.519 46.212 755.519 Q37.4273 755.519 32.4621 751.19 Q27.4968 746.829 27.4968 739.159 Z\" fill=\"#000000\" fill-rule=\"nonzero\" fill-opacity=\"1\" /><path clip-path=\"url(#clip130)\" d=\"M14.479 695.044 L19.3487 695.044 L19.3487 700.646 Q19.3487 703.797 20.6219 705.039 Q21.895 706.248 25.2052 706.248 L28.3562 706.248 L28.3562 696.604 L32.9077 696.604 L32.9077 706.248 L64.0042 706.248 L64.0042 712.136 L32.9077 712.136 L32.9077 717.738 L28.3562 717.738 L28.3562 712.136 L25.8736 712.136 Q19.9216 712.136 17.2162 709.367 Q14.479 706.598 14.479 700.583 L14.479 695.044 Z\" fill=\"#000000\" fill-rule=\"nonzero\" fill-opacity=\"1\" /><path clip-path=\"url(#clip130)\" d=\"M28.3562 690.143 L28.3562 684.286 L64.0042 684.286 L64.0042 690.143 L28.3562 690.143 M14.479 690.143 L14.479 684.286 L21.895 684.286 L21.895 690.143 L14.479 690.143 Z\" fill=\"#000000\" fill-rule=\"nonzero\" fill-opacity=\"1\" /><path clip-path=\"url(#clip130)\" d=\"M18.2347 666.24 L28.3562 666.24 L28.3562 654.177 L32.9077 654.177 L32.9077 666.24 L52.2594 666.24 Q56.6199 666.24 57.8613 665.062 Q59.1026 663.852 59.1026 660.192 L59.1026 654.177 L64.0042 654.177 L64.0042 660.192 Q64.0042 666.972 61.4897 669.55 Q58.9434 672.128 52.2594 672.128 L32.9077 672.128 L32.9077 676.425 L28.3562 676.425 L28.3562 672.128 L18.2347 672.128 L18.2347 666.24 Z\" fill=\"#000000\" fill-rule=\"nonzero\" fill-opacity=\"1\" /><path clip-path=\"url(#clip132)\" d=\"M484.069 1423.18 L484.069 608.449 L777.389 608.449 L777.389 1423.18 L484.069 1423.18 L484.069 1423.18  Z\" fill=\"#009af9\" fill-rule=\"evenodd\" fill-opacity=\"1\"/>\n",
       "<polyline clip-path=\"url(#clip132)\" style=\"stroke:#000000; stroke-linecap:round; stroke-linejoin:round; stroke-width:4; stroke-opacity:1; fill:none\" points=\"484.069,1423.18 484.069,608.449 777.389,608.449 777.389,1423.18 484.069,1423.18 \"/>\n",
       "<path clip-path=\"url(#clip132)\" d=\"M850.719 47.2441 L850.719 608.449 L1144.04 608.449 L1144.04 47.2441 L850.719 47.2441 L850.719 47.2441  Z\" fill=\"#009af9\" fill-rule=\"evenodd\" fill-opacity=\"1\"/>\n",
       "<polyline clip-path=\"url(#clip132)\" style=\"stroke:#000000; stroke-linecap:round; stroke-linejoin:round; stroke-width:4; stroke-opacity:1; fill:none\" points=\"850.719,47.2441 850.719,608.449 1144.04,608.449 1144.04,47.2441 850.719,47.2441 \"/>\n",
       "<path clip-path=\"url(#clip132)\" d=\"M1217.37 73.6298 L1217.37 608.449 L1510.69 608.449 L1510.69 73.6298 L1217.37 73.6298 L1217.37 73.6298  Z\" fill=\"#009af9\" fill-rule=\"evenodd\" fill-opacity=\"1\"/>\n",
       "<polyline clip-path=\"url(#clip132)\" style=\"stroke:#000000; stroke-linecap:round; stroke-linejoin:round; stroke-width:4; stroke-opacity:1; fill:none\" points=\"1217.37,73.6298 1217.37,608.449 1510.69,608.449 1510.69,73.6298 1217.37,73.6298 \"/>\n",
       "<path clip-path=\"url(#clip132)\" d=\"M1584.02 101.544 L1584.02 608.449 L1877.34 608.449 L1877.34 101.544 L1584.02 101.544 L1584.02 101.544  Z\" fill=\"#009af9\" fill-rule=\"evenodd\" fill-opacity=\"1\"/>\n",
       "<polyline clip-path=\"url(#clip132)\" style=\"stroke:#000000; stroke-linecap:round; stroke-linejoin:round; stroke-width:4; stroke-opacity:1; fill:none\" points=\"1584.02,101.544 1584.02,608.449 1877.34,608.449 1877.34,101.544 1584.02,101.544 \"/>\n",
       "<path clip-path=\"url(#clip132)\" d=\"M1950.67 125.426 L1950.67 608.449 L2243.99 608.449 L2243.99 125.426 L1950.67 125.426 L1950.67 125.426  Z\" fill=\"#009af9\" fill-rule=\"evenodd\" fill-opacity=\"1\"/>\n",
       "<polyline clip-path=\"url(#clip132)\" style=\"stroke:#000000; stroke-linecap:round; stroke-linejoin:round; stroke-width:4; stroke-opacity:1; fill:none\" points=\"1950.67,125.426 1950.67,608.449 2243.99,608.449 2243.99,125.426 1950.67,125.426 \"/>\n",
       "<circle clip-path=\"url(#clip132)\" style=\"fill:#009af9; stroke:none; fill-opacity:0\" cx=\"630.729\" cy=\"1423.18\" r=\"2\"/>\n",
       "<circle clip-path=\"url(#clip132)\" style=\"fill:#009af9; stroke:none; fill-opacity:0\" cx=\"997.38\" cy=\"47.2441\" r=\"2\"/>\n",
       "<circle clip-path=\"url(#clip132)\" style=\"fill:#009af9; stroke:none; fill-opacity:0\" cx=\"1364.03\" cy=\"73.6298\" r=\"2\"/>\n",
       "<circle clip-path=\"url(#clip132)\" style=\"fill:#009af9; stroke:none; fill-opacity:0\" cx=\"1730.68\" cy=\"101.544\" r=\"2\"/>\n",
       "<circle clip-path=\"url(#clip132)\" style=\"fill:#009af9; stroke:none; fill-opacity:0\" cx=\"2097.33\" cy=\"125.426\" r=\"2\"/>\n",
       "</svg>\n"
      ],
      "text/html": [
       "<?xml version=\"1.0\" encoding=\"utf-8\"?>\n",
       "<svg xmlns=\"http://www.w3.org/2000/svg\" xmlns:xlink=\"http://www.w3.org/1999/xlink\" width=\"600\" height=\"400\" viewBox=\"0 0 2400 1600\">\n",
       "<defs>\n",
       "  <clipPath id=\"clip180\">\n",
       "    <rect x=\"0\" y=\"0\" width=\"2400\" height=\"1600\"/>\n",
       "  </clipPath>\n",
       "</defs>\n",
       "<path clip-path=\"url(#clip180)\" d=\"M0 1600 L2400 1600 L2400 0 L0 0  Z\" fill=\"#ffffff\" fill-rule=\"evenodd\" fill-opacity=\"1\"/>\n",
       "<defs>\n",
       "  <clipPath id=\"clip181\">\n",
       "    <rect x=\"480\" y=\"0\" width=\"1681\" height=\"1600\"/>\n",
       "  </clipPath>\n",
       "</defs>\n",
       "<path clip-path=\"url(#clip180)\" d=\"M375.305 1423.18 L2352.76 1423.18 L2352.76 47.2441 L375.305 47.2441  Z\" fill=\"#ffffff\" fill-rule=\"evenodd\" fill-opacity=\"1\"/>\n",
       "<defs>\n",
       "  <clipPath id=\"clip182\">\n",
       "    <rect x=\"375\" y=\"47\" width=\"1978\" height=\"1377\"/>\n",
       "  </clipPath>\n",
       "</defs>\n",
       "<polyline clip-path=\"url(#clip182)\" style=\"stroke:#000000; stroke-linecap:round; stroke-linejoin:round; stroke-width:2; stroke-opacity:0.1; fill:none\" points=\"630.729,1423.18 630.729,47.2441 \"/>\n",
       "<polyline clip-path=\"url(#clip182)\" style=\"stroke:#000000; stroke-linecap:round; stroke-linejoin:round; stroke-width:2; stroke-opacity:0.1; fill:none\" points=\"997.38,1423.18 997.38,47.2441 \"/>\n",
       "<polyline clip-path=\"url(#clip182)\" style=\"stroke:#000000; stroke-linecap:round; stroke-linejoin:round; stroke-width:2; stroke-opacity:0.1; fill:none\" points=\"1364.03,1423.18 1364.03,47.2441 \"/>\n",
       "<polyline clip-path=\"url(#clip182)\" style=\"stroke:#000000; stroke-linecap:round; stroke-linejoin:round; stroke-width:2; stroke-opacity:0.1; fill:none\" points=\"1730.68,1423.18 1730.68,47.2441 \"/>\n",
       "<polyline clip-path=\"url(#clip182)\" style=\"stroke:#000000; stroke-linecap:round; stroke-linejoin:round; stroke-width:2; stroke-opacity:0.1; fill:none\" points=\"2097.33,1423.18 2097.33,47.2441 \"/>\n",
       "<polyline clip-path=\"url(#clip180)\" style=\"stroke:#000000; stroke-linecap:round; stroke-linejoin:round; stroke-width:4; stroke-opacity:1; fill:none\" points=\"375.305,1423.18 2352.76,1423.18 \"/>\n",
       "<polyline clip-path=\"url(#clip180)\" style=\"stroke:#000000; stroke-linecap:round; stroke-linejoin:round; stroke-width:4; stroke-opacity:1; fill:none\" points=\"630.729,1423.18 630.729,1404.28 \"/>\n",
       "<polyline clip-path=\"url(#clip180)\" style=\"stroke:#000000; stroke-linecap:round; stroke-linejoin:round; stroke-width:4; stroke-opacity:1; fill:none\" points=\"997.38,1423.18 997.38,1404.28 \"/>\n",
       "<polyline clip-path=\"url(#clip180)\" style=\"stroke:#000000; stroke-linecap:round; stroke-linejoin:round; stroke-width:4; stroke-opacity:1; fill:none\" points=\"1364.03,1423.18 1364.03,1404.28 \"/>\n",
       "<polyline clip-path=\"url(#clip180)\" style=\"stroke:#000000; stroke-linecap:round; stroke-linejoin:round; stroke-width:4; stroke-opacity:1; fill:none\" points=\"1730.68,1423.18 1730.68,1404.28 \"/>\n",
       "<polyline clip-path=\"url(#clip180)\" style=\"stroke:#000000; stroke-linecap:round; stroke-linejoin:round; stroke-width:4; stroke-opacity:1; fill:none\" points=\"2097.33,1423.18 2097.33,1404.28 \"/>\n",
       "<path clip-path=\"url(#clip180)\" d=\"M538.496 1469.08 L538.496 1481.74 L545.996 1481.74 Q549.769 1481.74 551.574 1480.19 Q553.403 1478.61 553.403 1475.39 Q553.403 1472.15 551.574 1470.63 Q549.769 1469.08 545.996 1469.08 L538.496 1469.08 M538.496 1454.86 L538.496 1465.28 L545.417 1465.28 Q548.843 1465.28 550.509 1464.01 Q552.199 1462.71 552.199 1460.07 Q552.199 1457.45 550.509 1456.16 Q548.843 1454.86 545.417 1454.86 L538.496 1454.86 M533.82 1451.02 L545.764 1451.02 Q551.111 1451.02 554.005 1453.24 Q556.898 1455.46 556.898 1459.56 Q556.898 1462.73 555.417 1464.61 Q553.935 1466.48 551.065 1466.95 Q554.514 1467.69 556.412 1470.05 Q558.333 1472.39 558.333 1475.9 Q558.333 1480.53 555.185 1483.06 Q552.037 1485.58 546.227 1485.58 L533.82 1485.58 L533.82 1451.02 Z\" fill=\"#000000\" fill-rule=\"nonzero\" fill-opacity=\"1\" /><path clip-path=\"url(#clip180)\" d=\"M577.94 1472.55 Q572.778 1472.55 570.787 1473.73 Q568.796 1474.91 568.796 1477.76 Q568.796 1480.02 570.278 1481.37 Q571.782 1482.69 574.352 1482.69 Q577.894 1482.69 580.023 1480.19 Q582.176 1477.66 582.176 1473.5 L582.176 1472.55 L577.94 1472.55 M586.435 1470.79 L586.435 1485.58 L582.176 1485.58 L582.176 1481.64 Q580.718 1484.01 578.542 1485.14 Q576.366 1486.25 573.218 1486.25 Q569.236 1486.25 566.875 1484.03 Q564.537 1481.78 564.537 1478.03 Q564.537 1473.66 567.454 1471.44 Q570.394 1469.21 576.204 1469.21 L582.176 1469.21 L582.176 1468.8 Q582.176 1465.86 580.231 1464.26 Q578.31 1462.64 574.815 1462.64 Q572.593 1462.64 570.486 1463.17 Q568.38 1463.7 566.435 1464.77 L566.435 1460.83 Q568.773 1459.93 570.972 1459.49 Q573.171 1459.03 575.255 1459.03 Q580.88 1459.03 583.657 1461.95 Q586.435 1464.86 586.435 1470.79 Z\" fill=\"#000000\" fill-rule=\"nonzero\" fill-opacity=\"1\" /><path clip-path=\"url(#clip180)\" d=\"M611.736 1460.42 L611.736 1464.45 Q609.93 1463.52 607.986 1463.06 Q606.042 1462.59 603.958 1462.59 Q600.787 1462.59 599.19 1463.57 Q597.616 1464.54 597.616 1466.48 Q597.616 1467.96 598.75 1468.82 Q599.884 1469.65 603.31 1470.42 L604.768 1470.74 Q609.305 1471.71 611.204 1473.5 Q613.125 1475.26 613.125 1478.43 Q613.125 1482.04 610.254 1484.14 Q607.407 1486.25 602.407 1486.25 Q600.324 1486.25 598.055 1485.83 Q595.81 1485.44 593.31 1484.63 L593.31 1480.23 Q595.671 1481.46 597.963 1482.08 Q600.255 1482.69 602.5 1482.69 Q605.509 1482.69 607.129 1481.67 Q608.75 1480.63 608.75 1478.75 Q608.75 1477.02 607.569 1476.09 Q606.412 1475.16 602.454 1474.31 L600.972 1473.96 Q597.014 1473.13 595.255 1471.41 Q593.495 1469.68 593.495 1466.67 Q593.495 1463.01 596.088 1461.02 Q598.68 1459.03 603.449 1459.03 Q605.81 1459.03 607.893 1459.38 Q609.977 1459.72 611.736 1460.42 Z\" fill=\"#000000\" fill-rule=\"nonzero\" fill-opacity=\"1\" /><path clip-path=\"url(#clip180)\" d=\"M642.083 1471.55 L642.083 1473.64 L622.5 1473.64 Q622.778 1478.03 625.139 1480.35 Q627.523 1482.64 631.759 1482.64 Q634.213 1482.64 636.504 1482.04 Q638.819 1481.44 641.088 1480.23 L641.088 1484.26 Q638.796 1485.23 636.389 1485.74 Q633.981 1486.25 631.504 1486.25 Q625.301 1486.25 621.666 1482.64 Q618.055 1479.03 618.055 1472.87 Q618.055 1466.51 621.481 1462.78 Q624.93 1459.03 630.764 1459.03 Q635.995 1459.03 639.027 1462.41 Q642.083 1465.77 642.083 1471.55 M637.824 1470.3 Q637.777 1466.81 635.856 1464.72 Q633.958 1462.64 630.81 1462.64 Q627.245 1462.64 625.092 1464.65 Q622.963 1466.67 622.639 1470.33 L637.824 1470.3 Z\" fill=\"#000000\" fill-rule=\"nonzero\" fill-opacity=\"1\" /><path clip-path=\"url(#clip180)\" d=\"M649.074 1449.56 L653.333 1449.56 L653.333 1485.58 L649.074 1485.58 L649.074 1449.56 Z\" fill=\"#000000\" fill-rule=\"nonzero\" fill-opacity=\"1\" /><path clip-path=\"url(#clip180)\" d=\"M662.245 1459.65 L666.504 1459.65 L666.504 1485.58 L662.245 1485.58 L662.245 1459.65 M662.245 1449.56 L666.504 1449.56 L666.504 1454.96 L662.245 1454.96 L662.245 1449.56 Z\" fill=\"#000000\" fill-rule=\"nonzero\" fill-opacity=\"1\" /><path clip-path=\"url(#clip180)\" d=\"M696.967 1469.93 L696.967 1485.58 L692.708 1485.58 L692.708 1470.07 Q692.708 1466.39 691.273 1464.56 Q689.837 1462.73 686.967 1462.73 Q683.518 1462.73 681.527 1464.93 Q679.536 1467.13 679.536 1470.93 L679.536 1485.58 L675.254 1485.58 L675.254 1459.65 L679.536 1459.65 L679.536 1463.68 Q681.064 1461.34 683.124 1460.19 Q685.208 1459.03 687.916 1459.03 Q692.384 1459.03 694.675 1461.81 Q696.967 1464.56 696.967 1469.93 Z\" fill=\"#000000\" fill-rule=\"nonzero\" fill-opacity=\"1\" /><path clip-path=\"url(#clip180)\" d=\"M727.638 1471.55 L727.638 1473.64 L708.055 1473.64 Q708.333 1478.03 710.694 1480.35 Q713.078 1482.64 717.314 1482.64 Q719.768 1482.64 722.059 1482.04 Q724.374 1481.44 726.643 1480.23 L726.643 1484.26 Q724.351 1485.23 721.944 1485.74 Q719.536 1486.25 717.059 1486.25 Q710.856 1486.25 707.222 1482.64 Q703.61 1479.03 703.61 1472.87 Q703.61 1466.51 707.036 1462.78 Q710.485 1459.03 716.319 1459.03 Q721.55 1459.03 724.583 1462.41 Q727.638 1465.77 727.638 1471.55 M723.379 1470.3 Q723.333 1466.81 721.411 1464.72 Q719.513 1462.64 716.365 1462.64 Q712.8 1462.64 710.647 1464.65 Q708.518 1466.67 708.194 1470.33 L723.379 1470.3 Z\" fill=\"#000000\" fill-rule=\"nonzero\" fill-opacity=\"1\" /><path clip-path=\"url(#clip180)\" d=\"M915.644 1451.02 L922.612 1451.02 L931.431 1474.54 L940.297 1451.02 L947.264 1451.02 L947.264 1485.58 L942.704 1485.58 L942.704 1455.23 L933.792 1478.94 L929.093 1478.94 L920.181 1455.23 L920.181 1485.58 L915.644 1485.58 L915.644 1451.02 Z\" fill=\"#000000\" fill-rule=\"nonzero\" fill-opacity=\"1\" /><path clip-path=\"url(#clip180)\" d=\"M966.408 1462.64 Q962.982 1462.64 960.991 1465.33 Q959 1467.99 959 1472.64 Q959 1477.29 960.968 1479.98 Q962.959 1482.64 966.408 1482.64 Q969.81 1482.64 971.801 1479.95 Q973.792 1477.27 973.792 1472.64 Q973.792 1468.03 971.801 1465.35 Q969.81 1462.64 966.408 1462.64 M966.408 1459.03 Q971.963 1459.03 975.134 1462.64 Q978.306 1466.25 978.306 1472.64 Q978.306 1479.01 975.134 1482.64 Q971.963 1486.25 966.408 1486.25 Q960.829 1486.25 957.658 1482.64 Q954.51 1479.01 954.51 1472.64 Q954.51 1466.25 957.658 1462.64 Q960.829 1459.03 966.408 1459.03 Z\" fill=\"#000000\" fill-rule=\"nonzero\" fill-opacity=\"1\" /><path clip-path=\"url(#clip180)\" d=\"M1002.43 1463.59 L1002.43 1449.56 L1006.69 1449.56 L1006.69 1485.58 L1002.43 1485.58 L1002.43 1481.69 Q1001.08 1484.01 999.023 1485.14 Q996.986 1486.25 994.116 1486.25 Q989.417 1486.25 986.454 1482.5 Q983.514 1478.75 983.514 1472.64 Q983.514 1466.53 986.454 1462.78 Q989.417 1459.03 994.116 1459.03 Q996.986 1459.03 999.023 1460.16 Q1001.08 1461.27 1002.43 1463.59 M987.912 1472.64 Q987.912 1477.34 989.833 1480.02 Q991.778 1482.69 995.158 1482.69 Q998.537 1482.69 1000.48 1480.02 Q1002.43 1477.34 1002.43 1472.64 Q1002.43 1467.94 1000.48 1465.28 Q998.537 1462.59 995.158 1462.59 Q991.778 1462.59 989.833 1465.28 Q987.912 1467.94 987.912 1472.64 Z\" fill=\"#000000\" fill-rule=\"nonzero\" fill-opacity=\"1\" /><path clip-path=\"url(#clip180)\" d=\"M1037.63 1471.55 L1037.63 1473.64 L1018.05 1473.64 Q1018.33 1478.03 1020.69 1480.35 Q1023.07 1482.64 1027.31 1482.64 Q1029.76 1482.64 1032.06 1482.04 Q1034.37 1481.44 1036.64 1480.23 L1036.64 1484.26 Q1034.35 1485.23 1031.94 1485.74 Q1029.53 1486.25 1027.06 1486.25 Q1020.85 1486.25 1017.22 1482.64 Q1013.61 1479.03 1013.61 1472.87 Q1013.61 1466.51 1017.03 1462.78 Q1020.48 1459.03 1026.31 1459.03 Q1031.55 1459.03 1034.58 1462.41 Q1037.63 1465.77 1037.63 1471.55 M1033.37 1470.3 Q1033.33 1466.81 1031.41 1464.72 Q1029.51 1462.64 1026.36 1462.64 Q1022.8 1462.64 1020.64 1464.65 Q1018.51 1466.67 1018.19 1470.33 L1033.37 1470.3 Z\" fill=\"#000000\" fill-rule=\"nonzero\" fill-opacity=\"1\" /><path clip-path=\"url(#clip180)\" d=\"M1044.62 1449.56 L1048.88 1449.56 L1048.88 1485.58 L1044.62 1485.58 L1044.62 1449.56 Z\" fill=\"#000000\" fill-rule=\"nonzero\" fill-opacity=\"1\" /><path clip-path=\"url(#clip180)\" d=\"M1059.21 1481.64 L1066.85 1481.64 L1066.85 1455.28 L1058.54 1456.95 L1058.54 1452.69 L1066.8 1451.02 L1071.48 1451.02 L1071.48 1481.64 L1079.12 1481.64 L1079.12 1485.58 L1059.21 1485.58 L1059.21 1481.64 Z\" fill=\"#000000\" fill-rule=\"nonzero\" fill-opacity=\"1\" /><path clip-path=\"url(#clip180)\" d=\"M1282.48 1451.02 L1289.45 1451.02 L1298.27 1474.54 L1307.13 1451.02 L1314.1 1451.02 L1314.1 1485.58 L1309.54 1485.58 L1309.54 1455.23 L1300.63 1478.94 L1295.93 1478.94 L1287.02 1455.23 L1287.02 1485.58 L1282.48 1485.58 L1282.48 1451.02 Z\" fill=\"#000000\" fill-rule=\"nonzero\" fill-opacity=\"1\" /><path clip-path=\"url(#clip180)\" d=\"M1333.24 1462.64 Q1329.82 1462.64 1327.83 1465.33 Q1325.84 1467.99 1325.84 1472.64 Q1325.84 1477.29 1327.8 1479.98 Q1329.79 1482.64 1333.24 1482.64 Q1336.65 1482.64 1338.64 1479.95 Q1340.63 1477.27 1340.63 1472.64 Q1340.63 1468.03 1338.64 1465.35 Q1336.65 1462.64 1333.24 1462.64 M1333.24 1459.03 Q1338.8 1459.03 1341.97 1462.64 Q1345.14 1466.25 1345.14 1472.64 Q1345.14 1479.01 1341.97 1482.64 Q1338.8 1486.25 1333.24 1486.25 Q1327.67 1486.25 1324.49 1482.64 Q1321.35 1479.01 1321.35 1472.64 Q1321.35 1466.25 1324.49 1462.64 Q1327.67 1459.03 1333.24 1459.03 Z\" fill=\"#000000\" fill-rule=\"nonzero\" fill-opacity=\"1\" /><path clip-path=\"url(#clip180)\" d=\"M1369.26 1463.59 L1369.26 1449.56 L1373.52 1449.56 L1373.52 1485.58 L1369.26 1485.58 L1369.26 1481.69 Q1367.92 1484.01 1365.86 1485.14 Q1363.82 1486.25 1360.95 1486.25 Q1356.25 1486.25 1353.29 1482.5 Q1350.35 1478.75 1350.35 1472.64 Q1350.35 1466.53 1353.29 1462.78 Q1356.25 1459.03 1360.95 1459.03 Q1363.82 1459.03 1365.86 1460.16 Q1367.92 1461.27 1369.26 1463.59 M1354.75 1472.64 Q1354.75 1477.34 1356.67 1480.02 Q1358.61 1482.69 1361.99 1482.69 Q1365.37 1482.69 1367.32 1480.02 Q1369.26 1477.34 1369.26 1472.64 Q1369.26 1467.94 1367.32 1465.28 Q1365.37 1462.59 1361.99 1462.59 Q1358.61 1462.59 1356.67 1465.28 Q1354.75 1467.94 1354.75 1472.64 Z\" fill=\"#000000\" fill-rule=\"nonzero\" fill-opacity=\"1\" /><path clip-path=\"url(#clip180)\" d=\"M1404.47 1471.55 L1404.47 1473.64 L1384.89 1473.64 Q1385.16 1478.03 1387.53 1480.35 Q1389.91 1482.64 1394.15 1482.64 Q1396.6 1482.64 1398.89 1482.04 Q1401.21 1481.44 1403.47 1480.23 L1403.47 1484.26 Q1401.18 1485.23 1398.78 1485.74 Q1396.37 1486.25 1393.89 1486.25 Q1387.69 1486.25 1384.05 1482.64 Q1380.44 1479.03 1380.44 1472.87 Q1380.44 1466.51 1383.87 1462.78 Q1387.32 1459.03 1393.15 1459.03 Q1398.38 1459.03 1401.41 1462.41 Q1404.47 1465.77 1404.47 1471.55 M1400.21 1470.3 Q1400.16 1466.81 1398.24 1464.72 Q1396.35 1462.64 1393.2 1462.64 Q1389.63 1462.64 1387.48 1464.65 Q1385.35 1466.67 1385.03 1470.33 L1400.21 1470.3 Z\" fill=\"#000000\" fill-rule=\"nonzero\" fill-opacity=\"1\" /><path clip-path=\"url(#clip180)\" d=\"M1411.46 1449.56 L1415.72 1449.56 L1415.72 1485.58 L1411.46 1485.58 L1411.46 1449.56 Z\" fill=\"#000000\" fill-rule=\"nonzero\" fill-opacity=\"1\" /><path clip-path=\"url(#clip180)\" d=\"M1429.26 1481.64 L1445.58 1481.64 L1445.58 1485.58 L1423.64 1485.58 L1423.64 1481.64 Q1426.3 1478.89 1430.88 1474.26 Q1435.49 1469.61 1436.67 1468.27 Q1438.91 1465.74 1439.79 1464.01 Q1440.7 1462.25 1440.7 1460.56 Q1440.7 1457.8 1438.75 1456.07 Q1436.83 1454.33 1433.73 1454.33 Q1431.53 1454.33 1429.08 1455.09 Q1426.65 1455.86 1423.87 1457.41 L1423.87 1452.69 Q1426.69 1451.55 1429.15 1450.97 Q1431.6 1450.39 1433.64 1450.39 Q1439.01 1450.39 1442.2 1453.08 Q1445.4 1455.77 1445.4 1460.26 Q1445.4 1462.39 1444.59 1464.31 Q1443.8 1466.2 1441.69 1468.8 Q1441.11 1469.47 1438.01 1472.69 Q1434.91 1475.88 1429.26 1481.64 Z\" fill=\"#000000\" fill-rule=\"nonzero\" fill-opacity=\"1\" /><path clip-path=\"url(#clip180)\" d=\"M1648.66 1451.02 L1655.62 1451.02 L1664.44 1474.54 L1673.31 1451.02 L1680.28 1451.02 L1680.28 1485.58 L1675.72 1485.58 L1675.72 1455.23 L1666.8 1478.94 L1662.11 1478.94 L1653.19 1455.23 L1653.19 1485.58 L1648.66 1485.58 L1648.66 1451.02 Z\" fill=\"#000000\" fill-rule=\"nonzero\" fill-opacity=\"1\" /><path clip-path=\"url(#clip180)\" d=\"M1699.42 1462.64 Q1695.99 1462.64 1694 1465.33 Q1692.01 1467.99 1692.01 1472.64 Q1692.01 1477.29 1693.98 1479.98 Q1695.97 1482.64 1699.42 1482.64 Q1702.82 1482.64 1704.81 1479.95 Q1706.8 1477.27 1706.8 1472.64 Q1706.8 1468.03 1704.81 1465.35 Q1702.82 1462.64 1699.42 1462.64 M1699.42 1459.03 Q1704.98 1459.03 1708.15 1462.64 Q1711.32 1466.25 1711.32 1472.64 Q1711.32 1479.01 1708.15 1482.64 Q1704.98 1486.25 1699.42 1486.25 Q1693.84 1486.25 1690.67 1482.64 Q1687.52 1479.01 1687.52 1472.64 Q1687.52 1466.25 1690.67 1462.64 Q1693.84 1459.03 1699.42 1459.03 Z\" fill=\"#000000\" fill-rule=\"nonzero\" fill-opacity=\"1\" /><path clip-path=\"url(#clip180)\" d=\"M1735.44 1463.59 L1735.44 1449.56 L1739.7 1449.56 L1739.7 1485.58 L1735.44 1485.58 L1735.44 1481.69 Q1734.1 1484.01 1732.04 1485.14 Q1730 1486.25 1727.13 1486.25 Q1722.43 1486.25 1719.47 1482.5 Q1716.53 1478.75 1716.53 1472.64 Q1716.53 1466.53 1719.47 1462.78 Q1722.43 1459.03 1727.13 1459.03 Q1730 1459.03 1732.04 1460.16 Q1734.1 1461.27 1735.44 1463.59 M1720.92 1472.64 Q1720.92 1477.34 1722.85 1480.02 Q1724.79 1482.69 1728.17 1482.69 Q1731.55 1482.69 1733.49 1480.02 Q1735.44 1477.34 1735.44 1472.64 Q1735.44 1467.94 1733.49 1465.28 Q1731.55 1462.59 1728.17 1462.59 Q1724.79 1462.59 1722.85 1465.28 Q1720.92 1467.94 1720.92 1472.64 Z\" fill=\"#000000\" fill-rule=\"nonzero\" fill-opacity=\"1\" /><path clip-path=\"url(#clip180)\" d=\"M1770.65 1471.55 L1770.65 1473.64 L1751.06 1473.64 Q1751.34 1478.03 1753.7 1480.35 Q1756.09 1482.64 1760.32 1482.64 Q1762.78 1482.64 1765.07 1482.04 Q1767.38 1481.44 1769.65 1480.23 L1769.65 1484.26 Q1767.36 1485.23 1764.95 1485.74 Q1762.54 1486.25 1760.07 1486.25 Q1753.86 1486.25 1750.23 1482.64 Q1746.62 1479.03 1746.62 1472.87 Q1746.62 1466.51 1750.04 1462.78 Q1753.49 1459.03 1759.33 1459.03 Q1764.56 1459.03 1767.59 1462.41 Q1770.65 1465.77 1770.65 1471.55 M1766.39 1470.3 Q1766.34 1466.81 1764.42 1464.72 Q1762.52 1462.64 1759.37 1462.64 Q1755.81 1462.64 1753.66 1464.65 Q1751.53 1466.67 1751.2 1470.33 L1766.39 1470.3 Z\" fill=\"#000000\" fill-rule=\"nonzero\" fill-opacity=\"1\" /><path clip-path=\"url(#clip180)\" d=\"M1777.64 1449.56 L1781.9 1449.56 L1781.9 1485.58 L1777.64 1485.58 L1777.64 1449.56 Z\" fill=\"#000000\" fill-rule=\"nonzero\" fill-opacity=\"1\" /><path clip-path=\"url(#clip180)\" d=\"M1805.58 1466.95 Q1808.93 1467.66 1810.81 1469.93 Q1812.71 1472.2 1812.71 1475.53 Q1812.71 1480.65 1809.19 1483.45 Q1805.67 1486.25 1799.19 1486.25 Q1797.01 1486.25 1794.7 1485.81 Q1792.41 1485.39 1789.95 1484.54 L1789.95 1480.02 Q1791.9 1481.16 1794.21 1481.74 Q1796.53 1482.32 1799.05 1482.32 Q1803.45 1482.32 1805.74 1480.58 Q1808.05 1478.84 1808.05 1475.53 Q1808.05 1472.48 1805.9 1470.77 Q1803.77 1469.03 1799.95 1469.03 L1795.92 1469.03 L1795.92 1465.19 L1800.14 1465.19 Q1803.59 1465.19 1805.41 1463.82 Q1807.24 1462.43 1807.24 1459.84 Q1807.24 1457.18 1805.35 1455.77 Q1803.47 1454.33 1799.95 1454.33 Q1798.03 1454.33 1795.83 1454.75 Q1793.63 1455.16 1790.99 1456.04 L1790.99 1451.88 Q1793.66 1451.14 1795.97 1450.77 Q1798.31 1450.39 1800.37 1450.39 Q1805.69 1450.39 1808.79 1452.83 Q1811.9 1455.23 1811.9 1459.35 Q1811.9 1462.22 1810.25 1464.21 Q1808.61 1466.18 1805.58 1466.95 Z\" fill=\"#000000\" fill-rule=\"nonzero\" fill-opacity=\"1\" /><path clip-path=\"url(#clip180)\" d=\"M2014.74 1451.02 L2021.71 1451.02 L2030.53 1474.54 L2039.39 1451.02 L2046.36 1451.02 L2046.36 1485.58 L2041.8 1485.58 L2041.8 1455.23 L2032.89 1478.94 L2028.19 1478.94 L2019.28 1455.23 L2019.28 1485.58 L2014.74 1485.58 L2014.74 1451.02 Z\" fill=\"#000000\" fill-rule=\"nonzero\" fill-opacity=\"1\" /><path clip-path=\"url(#clip180)\" d=\"M2065.5 1462.64 Q2062.08 1462.64 2060.09 1465.33 Q2058.1 1467.99 2058.1 1472.64 Q2058.1 1477.29 2060.06 1479.98 Q2062.05 1482.64 2065.5 1482.64 Q2068.91 1482.64 2070.9 1479.95 Q2072.89 1477.27 2072.89 1472.64 Q2072.89 1468.03 2070.9 1465.35 Q2068.91 1462.64 2065.5 1462.64 M2065.5 1459.03 Q2071.06 1459.03 2074.23 1462.64 Q2077.4 1466.25 2077.4 1472.64 Q2077.4 1479.01 2074.23 1482.64 Q2071.06 1486.25 2065.5 1486.25 Q2059.93 1486.25 2056.75 1482.64 Q2053.61 1479.01 2053.61 1472.64 Q2053.61 1466.25 2056.75 1462.64 Q2059.93 1459.03 2065.5 1459.03 Z\" fill=\"#000000\" fill-rule=\"nonzero\" fill-opacity=\"1\" /><path clip-path=\"url(#clip180)\" d=\"M2101.52 1463.59 L2101.52 1449.56 L2105.78 1449.56 L2105.78 1485.58 L2101.52 1485.58 L2101.52 1481.69 Q2100.18 1484.01 2098.12 1485.14 Q2096.08 1486.25 2093.21 1486.25 Q2088.51 1486.25 2085.55 1482.5 Q2082.61 1478.75 2082.61 1472.64 Q2082.61 1466.53 2085.55 1462.78 Q2088.51 1459.03 2093.21 1459.03 Q2096.08 1459.03 2098.12 1460.16 Q2100.18 1461.27 2101.52 1463.59 M2087.01 1472.64 Q2087.01 1477.34 2088.93 1480.02 Q2090.87 1482.69 2094.25 1482.69 Q2097.63 1482.69 2099.58 1480.02 Q2101.52 1477.34 2101.52 1472.64 Q2101.52 1467.94 2099.58 1465.28 Q2097.63 1462.59 2094.25 1462.59 Q2090.87 1462.59 2088.93 1465.28 Q2087.01 1467.94 2087.01 1472.64 Z\" fill=\"#000000\" fill-rule=\"nonzero\" fill-opacity=\"1\" /><path clip-path=\"url(#clip180)\" d=\"M2136.73 1471.55 L2136.73 1473.64 L2117.15 1473.64 Q2117.42 1478.03 2119.79 1480.35 Q2122.17 1482.64 2126.41 1482.64 Q2128.86 1482.64 2131.15 1482.04 Q2133.47 1481.44 2135.73 1480.23 L2135.73 1484.26 Q2133.44 1485.23 2131.04 1485.74 Q2128.63 1486.25 2126.15 1486.25 Q2119.95 1486.25 2116.31 1482.64 Q2112.7 1479.03 2112.7 1472.87 Q2112.7 1466.51 2116.13 1462.78 Q2119.58 1459.03 2125.41 1459.03 Q2130.64 1459.03 2133.67 1462.41 Q2136.73 1465.77 2136.73 1471.55 M2132.47 1470.3 Q2132.42 1466.81 2130.5 1464.72 Q2128.61 1462.64 2125.46 1462.64 Q2121.89 1462.64 2119.74 1464.65 Q2117.61 1466.67 2117.29 1470.33 L2132.47 1470.3 Z\" fill=\"#000000\" fill-rule=\"nonzero\" fill-opacity=\"1\" /><path clip-path=\"url(#clip180)\" d=\"M2143.72 1449.56 L2147.98 1449.56 L2147.98 1485.58 L2143.72 1485.58 L2143.72 1449.56 Z\" fill=\"#000000\" fill-rule=\"nonzero\" fill-opacity=\"1\" /><path clip-path=\"url(#clip180)\" d=\"M2170.34 1455.09 L2158.54 1473.54 L2170.34 1473.54 L2170.34 1455.09 M2169.11 1451.02 L2174.99 1451.02 L2174.99 1473.54 L2179.92 1473.54 L2179.92 1477.43 L2174.99 1477.43 L2174.99 1485.58 L2170.34 1485.58 L2170.34 1477.43 L2154.74 1477.43 L2154.74 1472.92 L2169.11 1451.02 Z\" fill=\"#000000\" fill-rule=\"nonzero\" fill-opacity=\"1\" /><path clip-path=\"url(#clip180)\" d=\"M1272.43 1520.52 L1282.01 1520.52 L1294.14 1552.86 L1306.33 1520.52 L1315.91 1520.52 L1315.91 1568.04 L1309.64 1568.04 L1309.64 1526.32 L1297.38 1558.91 L1290.92 1558.91 L1278.67 1526.32 L1278.67 1568.04 L1272.43 1568.04 L1272.43 1520.52 Z\" fill=\"#000000\" fill-rule=\"nonzero\" fill-opacity=\"1\" /><path clip-path=\"url(#clip180)\" d=\"M1342.23 1536.5 Q1337.52 1536.5 1334.78 1540.19 Q1332.04 1543.85 1332.04 1550.25 Q1332.04 1556.65 1334.75 1560.34 Q1337.49 1564 1342.23 1564 Q1346.91 1564 1349.64 1560.31 Q1352.38 1556.62 1352.38 1550.25 Q1352.38 1543.92 1349.64 1540.23 Q1346.91 1536.5 1342.23 1536.5 M1342.23 1531.54 Q1349.87 1531.54 1354.23 1536.5 Q1358.59 1541.47 1358.59 1550.25 Q1358.59 1559 1354.23 1564 Q1349.87 1568.97 1342.23 1568.97 Q1334.56 1568.97 1330.2 1564 Q1325.87 1559 1325.87 1550.25 Q1325.87 1541.47 1330.2 1536.5 Q1334.56 1531.54 1342.23 1531.54 Z\" fill=\"#000000\" fill-rule=\"nonzero\" fill-opacity=\"1\" /><path clip-path=\"url(#clip180)\" d=\"M1391.75 1537.81 L1391.75 1518.52 L1397.61 1518.52 L1397.61 1568.04 L1391.75 1568.04 L1391.75 1562.7 Q1389.91 1565.88 1387.07 1567.44 Q1384.27 1568.97 1380.33 1568.97 Q1373.87 1568.97 1369.79 1563.81 Q1365.75 1558.65 1365.75 1550.25 Q1365.75 1541.85 1369.79 1536.69 Q1373.87 1531.54 1380.33 1531.54 Q1384.27 1531.54 1387.07 1533.1 Q1389.91 1534.62 1391.75 1537.81 M1371.8 1550.25 Q1371.8 1556.71 1374.44 1560.4 Q1377.11 1564.07 1381.76 1564.07 Q1386.41 1564.07 1389.08 1560.4 Q1391.75 1556.71 1391.75 1550.25 Q1391.75 1543.79 1389.08 1540.13 Q1386.41 1536.44 1381.76 1536.44 Q1377.11 1536.44 1374.44 1540.13 Q1371.8 1543.79 1371.8 1550.25 Z\" fill=\"#000000\" fill-rule=\"nonzero\" fill-opacity=\"1\" /><path clip-path=\"url(#clip180)\" d=\"M1440.16 1548.76 L1440.16 1551.62 L1413.24 1551.62 Q1413.62 1557.67 1416.87 1560.85 Q1420.14 1564 1425.97 1564 Q1429.34 1564 1432.49 1563.17 Q1435.68 1562.35 1438.8 1560.69 L1438.8 1566.23 Q1435.64 1567.57 1432.33 1568.27 Q1429.02 1568.97 1425.62 1568.97 Q1417.09 1568.97 1412.09 1564 Q1407.13 1559.04 1407.13 1550.57 Q1407.13 1541.82 1411.84 1536.69 Q1416.58 1531.54 1424.6 1531.54 Q1431.79 1531.54 1435.96 1536.18 Q1440.16 1540.8 1440.16 1548.76 M1434.31 1547.04 Q1434.24 1542.23 1431.6 1539.37 Q1428.99 1536.5 1424.66 1536.5 Q1419.76 1536.5 1416.8 1539.27 Q1413.87 1542.04 1413.43 1547.07 L1434.31 1547.04 Z\" fill=\"#000000\" fill-rule=\"nonzero\" fill-opacity=\"1\" /><path clip-path=\"url(#clip180)\" d=\"M1449.78 1518.52 L1455.63 1518.52 L1455.63 1568.04 L1449.78 1568.04 L1449.78 1518.52 Z\" fill=\"#000000\" fill-rule=\"nonzero\" fill-opacity=\"1\" /><polyline clip-path=\"url(#clip182)\" style=\"stroke:#000000; stroke-linecap:round; stroke-linejoin:round; stroke-width:2; stroke-opacity:0.1; fill:none\" points=\"375.305,1224.18 2352.76,1224.18 \"/>\n",
       "<polyline clip-path=\"url(#clip182)\" style=\"stroke:#000000; stroke-linecap:round; stroke-linejoin:round; stroke-width:2; stroke-opacity:0.1; fill:none\" points=\"375.305,916.314 2352.76,916.314 \"/>\n",
       "<polyline clip-path=\"url(#clip182)\" style=\"stroke:#000000; stroke-linecap:round; stroke-linejoin:round; stroke-width:2; stroke-opacity:0.1; fill:none\" points=\"375.305,608.449 2352.76,608.449 \"/>\n",
       "<polyline clip-path=\"url(#clip182)\" style=\"stroke:#000000; stroke-linecap:round; stroke-linejoin:round; stroke-width:2; stroke-opacity:0.1; fill:none\" points=\"375.305,300.584 2352.76,300.584 \"/>\n",
       "<polyline clip-path=\"url(#clip180)\" style=\"stroke:#000000; stroke-linecap:round; stroke-linejoin:round; stroke-width:4; stroke-opacity:1; fill:none\" points=\"375.305,1423.18 375.305,47.2441 \"/>\n",
       "<polyline clip-path=\"url(#clip180)\" style=\"stroke:#000000; stroke-linecap:round; stroke-linejoin:round; stroke-width:4; stroke-opacity:1; fill:none\" points=\"375.305,1224.18 394.203,1224.18 \"/>\n",
       "<polyline clip-path=\"url(#clip180)\" style=\"stroke:#000000; stroke-linecap:round; stroke-linejoin:round; stroke-width:4; stroke-opacity:1; fill:none\" points=\"375.305,916.314 394.203,916.314 \"/>\n",
       "<polyline clip-path=\"url(#clip180)\" style=\"stroke:#000000; stroke-linecap:round; stroke-linejoin:round; stroke-width:4; stroke-opacity:1; fill:none\" points=\"375.305,608.449 394.203,608.449 \"/>\n",
       "<polyline clip-path=\"url(#clip180)\" style=\"stroke:#000000; stroke-linecap:round; stroke-linejoin:round; stroke-width:4; stroke-opacity:1; fill:none\" points=\"375.305,300.584 394.203,300.584 \"/>\n",
       "<path clip-path=\"url(#clip180)\" d=\"M114.26 1231.08 L143.936 1231.08 L143.936 1235.01 L114.26 1235.01 L114.26 1231.08 Z\" fill=\"#000000\" fill-rule=\"nonzero\" fill-opacity=\"1\" /><path clip-path=\"url(#clip180)\" d=\"M158.056 1243.97 L174.376 1243.97 L174.376 1247.91 L152.431 1247.91 L152.431 1243.97 Q155.093 1241.22 159.677 1236.59 Q164.283 1231.93 165.464 1230.59 Q167.709 1228.07 168.589 1226.33 Q169.491 1224.57 169.491 1222.88 Q169.491 1220.13 167.547 1218.39 Q165.626 1216.66 162.524 1216.66 Q160.325 1216.66 157.871 1217.42 Q155.44 1218.18 152.663 1219.73 L152.663 1215.01 Q155.487 1213.88 157.94 1213.3 Q160.394 1212.72 162.431 1212.72 Q167.802 1212.72 170.996 1215.41 Q174.19 1218.09 174.19 1222.58 Q174.19 1224.71 173.38 1226.63 Q172.593 1228.53 170.487 1231.12 Q169.908 1231.79 166.806 1235.01 Q163.704 1238.21 158.056 1243.97 Z\" fill=\"#000000\" fill-rule=\"nonzero\" fill-opacity=\"1\" /><path clip-path=\"url(#clip180)\" d=\"M184.19 1242.03 L189.075 1242.03 L189.075 1247.91 L184.19 1247.91 L184.19 1242.03 Z\" fill=\"#000000\" fill-rule=\"nonzero\" fill-opacity=\"1\" /><path clip-path=\"url(#clip180)\" d=\"M209.26 1216.42 Q205.649 1216.42 203.82 1219.99 Q202.014 1223.53 202.014 1230.66 Q202.014 1237.77 203.82 1241.33 Q205.649 1244.87 209.26 1244.87 Q212.894 1244.87 214.699 1241.33 Q216.528 1237.77 216.528 1230.66 Q216.528 1223.53 214.699 1219.99 Q212.894 1216.42 209.26 1216.42 M209.26 1212.72 Q215.07 1212.72 218.125 1217.33 Q221.204 1221.91 221.204 1230.66 Q221.204 1239.39 218.125 1243.99 Q215.07 1248.58 209.26 1248.58 Q203.449 1248.58 200.371 1243.99 Q197.315 1239.39 197.315 1230.66 Q197.315 1221.91 200.371 1217.33 Q203.449 1212.72 209.26 1212.72 Z\" fill=\"#000000\" fill-rule=\"nonzero\" fill-opacity=\"1\" /><path clip-path=\"url(#clip180)\" d=\"M257.593 1222.44 L247.014 1233.07 L257.593 1243.65 L254.838 1246.45 L244.213 1235.82 L233.588 1246.45 L230.857 1243.65 L241.412 1233.07 L230.857 1222.44 L233.588 1219.64 L244.213 1230.27 L254.838 1219.64 L257.593 1222.44 Z\" fill=\"#000000\" fill-rule=\"nonzero\" fill-opacity=\"1\" /><path clip-path=\"url(#clip180)\" d=\"M269.954 1243.97 L277.593 1243.97 L277.593 1217.6 L269.282 1219.27 L269.282 1215.01 L277.546 1213.35 L282.222 1213.35 L282.222 1243.97 L289.861 1243.97 L289.861 1247.91 L269.954 1247.91 L269.954 1243.97 Z\" fill=\"#000000\" fill-rule=\"nonzero\" fill-opacity=\"1\" /><path clip-path=\"url(#clip180)\" d=\"M309.305 1216.42 Q305.694 1216.42 303.866 1219.99 Q302.06 1223.53 302.06 1230.66 Q302.06 1237.77 303.866 1241.33 Q305.694 1244.87 309.305 1244.87 Q312.94 1244.87 314.745 1241.33 Q316.574 1237.77 316.574 1230.66 Q316.574 1223.53 314.745 1219.99 Q312.94 1216.42 309.305 1216.42 M309.305 1212.72 Q315.116 1212.72 318.171 1217.33 Q321.25 1221.91 321.25 1230.66 Q321.25 1239.39 318.171 1243.99 Q315.116 1248.58 309.305 1248.58 Q303.495 1248.58 300.417 1243.99 Q297.361 1239.39 297.361 1230.66 Q297.361 1221.91 300.417 1217.33 Q303.495 1212.72 309.305 1212.72 Z\" fill=\"#000000\" fill-rule=\"nonzero\" fill-opacity=\"1\" /><path clip-path=\"url(#clip180)\" d=\"M321.25 1192.42 L339.305 1192.42 L339.305 1194.03 L329.111 1220.5 L325.143 1220.5 L334.735 1195.61 L321.25 1195.61 L321.25 1192.42 Z\" fill=\"#000000\" fill-rule=\"nonzero\" fill-opacity=\"1\" /><path clip-path=\"url(#clip180)\" d=\"M114.26 923.213 L143.936 923.213 L143.936 927.148 L114.26 927.148 L114.26 923.213 Z\" fill=\"#000000\" fill-rule=\"nonzero\" fill-opacity=\"1\" /><path clip-path=\"url(#clip180)\" d=\"M154.839 936.106 L162.477 936.106 L162.477 909.74 L154.167 911.407 L154.167 907.148 L162.431 905.481 L167.107 905.481 L167.107 936.106 L174.746 936.106 L174.746 940.041 L154.839 940.041 L154.839 936.106 Z\" fill=\"#000000\" fill-rule=\"nonzero\" fill-opacity=\"1\" /><path clip-path=\"url(#clip180)\" d=\"M184.19 934.162 L189.075 934.162 L189.075 940.041 L184.19 940.041 L184.19 934.162 Z\" fill=\"#000000\" fill-rule=\"nonzero\" fill-opacity=\"1\" /><path clip-path=\"url(#clip180)\" d=\"M209.26 908.56 Q205.649 908.56 203.82 912.125 Q202.014 915.666 202.014 922.796 Q202.014 929.902 203.82 933.467 Q205.649 937.009 209.26 937.009 Q212.894 937.009 214.699 933.467 Q216.528 929.902 216.528 922.796 Q216.528 915.666 214.699 912.125 Q212.894 908.56 209.26 908.56 M209.26 904.856 Q215.07 904.856 218.125 909.463 Q221.204 914.046 221.204 922.796 Q221.204 931.523 218.125 936.129 Q215.07 940.712 209.26 940.712 Q203.449 940.712 200.371 936.129 Q197.315 931.523 197.315 922.796 Q197.315 914.046 200.371 909.463 Q203.449 904.856 209.26 904.856 Z\" fill=\"#000000\" fill-rule=\"nonzero\" fill-opacity=\"1\" /><path clip-path=\"url(#clip180)\" d=\"M257.593 914.578 L247.014 925.203 L257.593 935.782 L254.838 938.583 L244.213 927.958 L233.588 938.583 L230.857 935.782 L241.412 925.203 L230.857 914.578 L233.588 911.777 L244.213 922.402 L254.838 911.777 L257.593 914.578 Z\" fill=\"#000000\" fill-rule=\"nonzero\" fill-opacity=\"1\" /><path clip-path=\"url(#clip180)\" d=\"M269.954 936.106 L277.593 936.106 L277.593 909.74 L269.282 911.407 L269.282 907.148 L277.546 905.481 L282.222 905.481 L282.222 936.106 L289.861 936.106 L289.861 940.041 L269.954 940.041 L269.954 936.106 Z\" fill=\"#000000\" fill-rule=\"nonzero\" fill-opacity=\"1\" /><path clip-path=\"url(#clip180)\" d=\"M309.305 908.56 Q305.694 908.56 303.866 912.125 Q302.06 915.666 302.06 922.796 Q302.06 929.902 303.866 933.467 Q305.694 937.009 309.305 937.009 Q312.94 937.009 314.745 933.467 Q316.574 929.902 316.574 922.796 Q316.574 915.666 314.745 912.125 Q312.94 908.56 309.305 908.56 M309.305 904.856 Q315.116 904.856 318.171 909.463 Q321.25 914.046 321.25 922.796 Q321.25 931.523 318.171 936.129 Q315.116 940.712 309.305 940.712 Q303.495 940.712 300.417 936.129 Q297.361 931.523 297.361 922.796 Q297.361 914.046 300.417 909.463 Q303.495 904.856 309.305 904.856 Z\" fill=\"#000000\" fill-rule=\"nonzero\" fill-opacity=\"1\" /><path clip-path=\"url(#clip180)\" d=\"M321.25 884.551 L339.305 884.551 L339.305 886.168 L329.111 912.631 L325.143 912.631 L334.735 887.748 L321.25 887.748 L321.25 884.551 Z\" fill=\"#000000\" fill-rule=\"nonzero\" fill-opacity=\"1\" /><path clip-path=\"url(#clip180)\" d=\"M327.361 594.248 Q323.75 594.248 321.921 597.813 Q320.116 601.354 320.116 608.484 Q320.116 615.59 321.921 619.155 Q323.75 622.697 327.361 622.697 Q330.995 622.697 332.801 619.155 Q334.629 615.59 334.629 608.484 Q334.629 601.354 332.801 597.813 Q330.995 594.248 327.361 594.248 M327.361 590.544 Q333.171 590.544 336.227 595.151 Q339.305 599.734 339.305 608.484 Q339.305 617.211 336.227 621.817 Q333.171 626.4 327.361 626.4 Q321.551 626.4 318.472 621.817 Q315.416 617.211 315.416 608.484 Q315.416 599.734 318.472 595.151 Q321.551 590.544 327.361 590.544 Z\" fill=\"#000000\" fill-rule=\"nonzero\" fill-opacity=\"1\" /><path clip-path=\"url(#clip180)\" d=\"M154.839 320.377 L162.477 320.377 L162.477 294.011 L154.167 295.678 L154.167 291.419 L162.431 289.752 L167.107 289.752 L167.107 320.377 L174.746 320.377 L174.746 324.312 L154.839 324.312 L154.839 320.377 Z\" fill=\"#000000\" fill-rule=\"nonzero\" fill-opacity=\"1\" /><path clip-path=\"url(#clip180)\" d=\"M184.19 318.432 L189.075 318.432 L189.075 324.312 L184.19 324.312 L184.19 318.432 Z\" fill=\"#000000\" fill-rule=\"nonzero\" fill-opacity=\"1\" /><path clip-path=\"url(#clip180)\" d=\"M209.26 292.831 Q205.649 292.831 203.82 296.396 Q202.014 299.937 202.014 307.067 Q202.014 314.173 203.82 317.738 Q205.649 321.28 209.26 321.28 Q212.894 321.28 214.699 317.738 Q216.528 314.173 216.528 307.067 Q216.528 299.937 214.699 296.396 Q212.894 292.831 209.26 292.831 M209.26 289.127 Q215.07 289.127 218.125 293.734 Q221.204 298.317 221.204 307.067 Q221.204 315.794 218.125 320.4 Q215.07 324.983 209.26 324.983 Q203.449 324.983 200.371 320.4 Q197.315 315.794 197.315 307.067 Q197.315 298.317 200.371 293.734 Q203.449 289.127 209.26 289.127 Z\" fill=\"#000000\" fill-rule=\"nonzero\" fill-opacity=\"1\" /><path clip-path=\"url(#clip180)\" d=\"M257.593 298.849 L247.014 309.474 L257.593 320.053 L254.838 322.854 L244.213 312.229 L233.588 322.854 L230.857 320.053 L241.412 309.474 L230.857 298.849 L233.588 296.048 L244.213 306.673 L254.838 296.048 L257.593 298.849 Z\" fill=\"#000000\" fill-rule=\"nonzero\" fill-opacity=\"1\" /><path clip-path=\"url(#clip180)\" d=\"M269.954 320.377 L277.593 320.377 L277.593 294.011 L269.282 295.678 L269.282 291.419 L277.546 289.752 L282.222 289.752 L282.222 320.377 L289.861 320.377 L289.861 324.312 L269.954 324.312 L269.954 320.377 Z\" fill=\"#000000\" fill-rule=\"nonzero\" fill-opacity=\"1\" /><path clip-path=\"url(#clip180)\" d=\"M309.305 292.831 Q305.694 292.831 303.866 296.396 Q302.06 299.937 302.06 307.067 Q302.06 314.173 303.866 317.738 Q305.694 321.28 309.305 321.28 Q312.94 321.28 314.745 317.738 Q316.574 314.173 316.574 307.067 Q316.574 299.937 314.745 296.396 Q312.94 292.831 309.305 292.831 M309.305 289.127 Q315.116 289.127 318.171 293.734 Q321.25 298.317 321.25 307.067 Q321.25 315.794 318.171 320.4 Q315.116 324.983 309.305 324.983 Q303.495 324.983 300.417 320.4 Q297.361 315.794 297.361 307.067 Q297.361 298.317 300.417 293.734 Q303.495 289.127 309.305 289.127 Z\" fill=\"#000000\" fill-rule=\"nonzero\" fill-opacity=\"1\" /><path clip-path=\"url(#clip180)\" d=\"M321.25 268.822 L339.305 268.822 L339.305 270.439 L329.111 296.902 L325.143 296.902 L334.735 272.019 L321.25 272.019 L321.25 268.822 Z\" fill=\"#000000\" fill-rule=\"nonzero\" fill-opacity=\"1\" /><path clip-path=\"url(#clip180)\" d=\"M21.7677 809.818 L39.6235 809.818 L39.6235 801.734 Q39.6235 797.246 37.3 794.795 Q34.9765 792.344 30.6797 792.344 Q26.4147 792.344 24.0912 794.795 Q21.7677 797.246 21.7677 801.734 L21.7677 809.818 M16.4842 816.247 L16.4842 801.734 Q16.4842 793.745 20.1126 789.671 Q23.7092 785.565 30.6797 785.565 Q37.7138 785.565 41.3104 789.671 Q44.907 793.745 44.907 801.734 L44.907 809.818 L64.0042 809.818 L64.0042 816.247 L16.4842 816.247 Z\" fill=\"#000000\" fill-rule=\"nonzero\" fill-opacity=\"1\" /><path clip-path=\"url(#clip180)\" d=\"M33.8307 757.683 Q33.2578 758.67 33.0032 759.847 Q32.7167 760.993 32.7167 762.394 Q32.7167 767.359 35.9632 770.032 Q39.1779 772.674 45.2253 772.674 L64.0042 772.674 L64.0042 778.562 L28.3562 778.562 L28.3562 772.674 L33.8944 772.674 Q30.6479 770.828 29.0883 767.868 Q27.4968 764.908 27.4968 760.675 Q27.4968 760.07 27.5923 759.338 Q27.656 758.606 27.8151 757.715 L33.8307 757.683 Z\" fill=\"#000000\" fill-rule=\"nonzero\" fill-opacity=\"1\" /><path clip-path=\"url(#clip180)\" d=\"M32.4621 739.159 Q32.4621 743.869 36.1542 746.607 Q39.8145 749.344 46.212 749.344 Q52.6095 749.344 56.3017 746.638 Q59.9619 743.901 59.9619 739.159 Q59.9619 734.48 56.2698 731.743 Q52.5777 729.005 46.212 729.005 Q39.8781 729.005 36.186 731.743 Q32.4621 734.48 32.4621 739.159 M27.4968 739.159 Q27.4968 731.52 32.4621 727.159 Q37.4273 722.799 46.212 722.799 Q54.9649 722.799 59.9619 727.159 Q64.9272 731.52 64.9272 739.159 Q64.9272 746.829 59.9619 751.19 Q54.9649 755.519 46.212 755.519 Q37.4273 755.519 32.4621 751.19 Q27.4968 746.829 27.4968 739.159 Z\" fill=\"#000000\" fill-rule=\"nonzero\" fill-opacity=\"1\" /><path clip-path=\"url(#clip180)\" d=\"M14.479 695.044 L19.3487 695.044 L19.3487 700.646 Q19.3487 703.797 20.6219 705.039 Q21.895 706.248 25.2052 706.248 L28.3562 706.248 L28.3562 696.604 L32.9077 696.604 L32.9077 706.248 L64.0042 706.248 L64.0042 712.136 L32.9077 712.136 L32.9077 717.738 L28.3562 717.738 L28.3562 712.136 L25.8736 712.136 Q19.9216 712.136 17.2162 709.367 Q14.479 706.598 14.479 700.583 L14.479 695.044 Z\" fill=\"#000000\" fill-rule=\"nonzero\" fill-opacity=\"1\" /><path clip-path=\"url(#clip180)\" d=\"M28.3562 690.143 L28.3562 684.286 L64.0042 684.286 L64.0042 690.143 L28.3562 690.143 M14.479 690.143 L14.479 684.286 L21.895 684.286 L21.895 690.143 L14.479 690.143 Z\" fill=\"#000000\" fill-rule=\"nonzero\" fill-opacity=\"1\" /><path clip-path=\"url(#clip180)\" d=\"M18.2347 666.24 L28.3562 666.24 L28.3562 654.177 L32.9077 654.177 L32.9077 666.24 L52.2594 666.24 Q56.6199 666.24 57.8613 665.062 Q59.1026 663.852 59.1026 660.192 L59.1026 654.177 L64.0042 654.177 L64.0042 660.192 Q64.0042 666.972 61.4897 669.55 Q58.9434 672.128 52.2594 672.128 L32.9077 672.128 L32.9077 676.425 L28.3562 676.425 L28.3562 672.128 L18.2347 672.128 L18.2347 666.24 Z\" fill=\"#000000\" fill-rule=\"nonzero\" fill-opacity=\"1\" /><path clip-path=\"url(#clip182)\" d=\"M484.069 1423.18 L484.069 608.449 L777.389 608.449 L777.389 1423.18 L484.069 1423.18 L484.069 1423.18  Z\" fill=\"#009af9\" fill-rule=\"evenodd\" fill-opacity=\"1\"/>\n",
       "<polyline clip-path=\"url(#clip182)\" style=\"stroke:#000000; stroke-linecap:round; stroke-linejoin:round; stroke-width:4; stroke-opacity:1; fill:none\" points=\"484.069,1423.18 484.069,608.449 777.389,608.449 777.389,1423.18 484.069,1423.18 \"/>\n",
       "<path clip-path=\"url(#clip182)\" d=\"M850.719 47.2441 L850.719 608.449 L1144.04 608.449 L1144.04 47.2441 L850.719 47.2441 L850.719 47.2441  Z\" fill=\"#009af9\" fill-rule=\"evenodd\" fill-opacity=\"1\"/>\n",
       "<polyline clip-path=\"url(#clip182)\" style=\"stroke:#000000; stroke-linecap:round; stroke-linejoin:round; stroke-width:4; stroke-opacity:1; fill:none\" points=\"850.719,47.2441 850.719,608.449 1144.04,608.449 1144.04,47.2441 850.719,47.2441 \"/>\n",
       "<path clip-path=\"url(#clip182)\" d=\"M1217.37 73.6298 L1217.37 608.449 L1510.69 608.449 L1510.69 73.6298 L1217.37 73.6298 L1217.37 73.6298  Z\" fill=\"#009af9\" fill-rule=\"evenodd\" fill-opacity=\"1\"/>\n",
       "<polyline clip-path=\"url(#clip182)\" style=\"stroke:#000000; stroke-linecap:round; stroke-linejoin:round; stroke-width:4; stroke-opacity:1; fill:none\" points=\"1217.37,73.6298 1217.37,608.449 1510.69,608.449 1510.69,73.6298 1217.37,73.6298 \"/>\n",
       "<path clip-path=\"url(#clip182)\" d=\"M1584.02 101.544 L1584.02 608.449 L1877.34 608.449 L1877.34 101.544 L1584.02 101.544 L1584.02 101.544  Z\" fill=\"#009af9\" fill-rule=\"evenodd\" fill-opacity=\"1\"/>\n",
       "<polyline clip-path=\"url(#clip182)\" style=\"stroke:#000000; stroke-linecap:round; stroke-linejoin:round; stroke-width:4; stroke-opacity:1; fill:none\" points=\"1584.02,101.544 1584.02,608.449 1877.34,608.449 1877.34,101.544 1584.02,101.544 \"/>\n",
       "<path clip-path=\"url(#clip182)\" d=\"M1950.67 125.426 L1950.67 608.449 L2243.99 608.449 L2243.99 125.426 L1950.67 125.426 L1950.67 125.426  Z\" fill=\"#009af9\" fill-rule=\"evenodd\" fill-opacity=\"1\"/>\n",
       "<polyline clip-path=\"url(#clip182)\" style=\"stroke:#000000; stroke-linecap:round; stroke-linejoin:round; stroke-width:4; stroke-opacity:1; fill:none\" points=\"1950.67,125.426 1950.67,608.449 2243.99,608.449 2243.99,125.426 1950.67,125.426 \"/>\n",
       "<circle clip-path=\"url(#clip182)\" style=\"fill:#009af9; stroke:none; fill-opacity:0\" cx=\"630.729\" cy=\"1423.18\" r=\"2\"/>\n",
       "<circle clip-path=\"url(#clip182)\" style=\"fill:#009af9; stroke:none; fill-opacity:0\" cx=\"997.38\" cy=\"47.2441\" r=\"2\"/>\n",
       "<circle clip-path=\"url(#clip182)\" style=\"fill:#009af9; stroke:none; fill-opacity:0\" cx=\"1364.03\" cy=\"73.6298\" r=\"2\"/>\n",
       "<circle clip-path=\"url(#clip182)\" style=\"fill:#009af9; stroke:none; fill-opacity:0\" cx=\"1730.68\" cy=\"101.544\" r=\"2\"/>\n",
       "<circle clip-path=\"url(#clip182)\" style=\"fill:#009af9; stroke:none; fill-opacity:0\" cx=\"2097.33\" cy=\"125.426\" r=\"2\"/>\n",
       "</svg>\n"
      ]
     },
     "execution_count": 43,
     "metadata": {},
     "output_type": "execute_result"
    }
   ],
   "source": [
    "categories = [\"Baseline\", \"Model1\", \"Model2\", \"Model3\", \"Model4\"]\n",
    "values = [objective_baseline, objective_model1, objective_model2, objective_model3, objective_model4]\n",
    "\n",
    "bar(categories, values, xlabel=\"Model\", ylabel=\"Profit\", title=\"\", legend=false)"
   ]
  },
  {
   "cell_type": "code",
   "execution_count": 45,
   "id": "a945eb4f",
   "metadata": {},
   "outputs": [
    {
     "data": {
      "text/plain": [
       "398-element Vector{Int64}:\n",
       "    1\n",
       "    3\n",
       "    6\n",
       "    7\n",
       "    8\n",
       "   16\n",
       "   18\n",
       "   25\n",
       "   26\n",
       "   27\n",
       "   30\n",
       "   32\n",
       "   34\n",
       "    ⋮\n",
       " 2001\n",
       " 2002\n",
       " 2010\n",
       " 2013\n",
       " 2039\n",
       " 2054\n",
       " 2060\n",
       " 2100\n",
       " 2104\n",
       " 2124\n",
       " 2125\n",
       " 2135"
      ]
     },
     "execution_count": 45,
     "metadata": {},
     "output_type": "execute_result"
    }
   ],
   "source": [
    "temp = employees1 .+ employees2 .+ employees3 .+ employees4\n",
    "indices = findall(x -> x >0 && x<= 3, temp)\n"
   ]
  },
  {
   "cell_type": "markdown",
   "id": "fac0786f",
   "metadata": {},
   "source": [
    "### Analyzing employees that were never picked"
   ]
  },
  {
   "cell_type": "code",
   "execution_count": 46,
   "id": "2c7b9b66",
   "metadata": {},
   "outputs": [
    {
     "data": {
      "text/html": [
       "<div><div style = \"float: left;\"><span>2147×13 DataFrame</span></div><div style = \"float: right;\"><span style = \"font-style: italic;\">2122 rows omitted</span></div><div style = \"clear: both;\"></div></div><div class = \"data-frame\" style = \"overflow-x: scroll;\"><table class = \"data-frame\" style = \"margin-bottom: 6px;\"><thead><tr class = \"header\"><th class = \"rowNumber\" style = \"font-weight: bold; text-align: right;\">Row</th><th style = \"text-align: left;\">Level_in_Company</th><th style = \"text-align: left;\">Company</th><th style = \"text-align: left;\">Salary</th><th style = \"text-align: left;\">Revenue</th><th style = \"text-align: left;\">Department</th><th style = \"text-align: left;\">Score_Review</th><th style = \"text-align: left;\">Age</th><th style = \"text-align: left;\">Years_at_Company</th><th style = \"text-align: left;\">Race</th><th style = \"text-align: left;\">Gender</th><th style = \"text-align: left;\">Severance_estimate</th><th style = \"text-align: left;\">RowIndex</th><th style = \"text-align: left;\">NeverPicked</th></tr><tr class = \"subheader headerLastRow\"><th class = \"rowNumber\" style = \"font-weight: bold; text-align: right;\"></th><th title = \"Int64\" style = \"text-align: left;\">Int64</th><th title = \"String1\" style = \"text-align: left;\">String1</th><th title = \"Float64\" style = \"text-align: left;\">Float64</th><th title = \"Float64\" style = \"text-align: left;\">Float64</th><th title = \"Int64\" style = \"text-align: left;\">Int64</th><th title = \"Int64\" style = \"text-align: left;\">Int64</th><th title = \"Int64\" style = \"text-align: left;\">Int64</th><th title = \"Int64\" style = \"text-align: left;\">Int64</th><th title = \"String31\" style = \"text-align: left;\">String31</th><th title = \"String7\" style = \"text-align: left;\">String7</th><th title = \"Float64\" style = \"text-align: left;\">Float64</th><th title = \"Int64\" style = \"text-align: left;\">Int64</th><th title = \"Int64\" style = \"text-align: left;\">Int64</th></tr></thead><tbody><tr><td class = \"rowNumber\" style = \"font-weight: bold; text-align: right;\">1</td><td style = \"text-align: right;\">1</td><td style = \"text-align: left;\">B</td><td style = \"text-align: right;\">33285.5</td><td style = \"text-align: right;\">16587.8</td><td style = \"text-align: right;\">2</td><td style = \"text-align: right;\">4</td><td style = \"text-align: right;\">27</td><td style = \"text-align: right;\">1</td><td style = \"text-align: left;\">African American</td><td style = \"text-align: left;\">Female</td><td style = \"text-align: right;\">14258.9</td><td style = \"text-align: right;\">1</td><td style = \"text-align: right;\">0</td></tr><tr><td class = \"rowNumber\" style = \"font-weight: bold; text-align: right;\">2</td><td style = \"text-align: right;\">1</td><td style = \"text-align: left;\">B</td><td style = \"text-align: right;\">10281.4</td><td style = \"text-align: right;\">9813.93</td><td style = \"text-align: right;\">1</td><td style = \"text-align: right;\">1</td><td style = \"text-align: right;\">27</td><td style = \"text-align: right;\">3</td><td style = \"text-align: left;\">Caucasian</td><td style = \"text-align: left;\">Female</td><td style = \"text-align: right;\">3768.48</td><td style = \"text-align: right;\">2</td><td style = \"text-align: right;\">0</td></tr><tr><td class = \"rowNumber\" style = \"font-weight: bold; text-align: right;\">3</td><td style = \"text-align: right;\">1</td><td style = \"text-align: left;\">A</td><td style = \"text-align: right;\">18312.4</td><td style = \"text-align: right;\">14396.4</td><td style = \"text-align: right;\">1</td><td style = \"text-align: right;\">5</td><td style = \"text-align: right;\">27</td><td style = \"text-align: right;\">3</td><td style = \"text-align: left;\">Caucasian</td><td style = \"text-align: left;\">Male</td><td style = \"text-align: right;\">5624.81</td><td style = \"text-align: right;\">3</td><td style = \"text-align: right;\">0</td></tr><tr><td class = \"rowNumber\" style = \"font-weight: bold; text-align: right;\">4</td><td style = \"text-align: right;\">1</td><td style = \"text-align: left;\">A</td><td style = \"text-align: right;\">5154.46</td><td style = \"text-align: right;\">31821.6</td><td style = \"text-align: right;\">2</td><td style = \"text-align: right;\">5</td><td style = \"text-align: right;\">27</td><td style = \"text-align: right;\">3</td><td style = \"text-align: left;\">Other</td><td style = \"text-align: left;\">Female</td><td style = \"text-align: right;\">2265.83</td><td style = \"text-align: right;\">4</td><td style = \"text-align: right;\">0</td></tr><tr><td class = \"rowNumber\" style = \"font-weight: bold; text-align: right;\">5</td><td style = \"text-align: right;\">1</td><td style = \"text-align: left;\">B</td><td style = \"text-align: right;\">2424.3</td><td style = \"text-align: right;\">1359.47</td><td style = \"text-align: right;\">3</td><td style = \"text-align: right;\">4</td><td style = \"text-align: right;\">27</td><td style = \"text-align: right;\">2</td><td style = \"text-align: left;\">Hispanic</td><td style = \"text-align: left;\">Female</td><td style = \"text-align: right;\">6071.32</td><td style = \"text-align: right;\">5</td><td style = \"text-align: right;\">0</td></tr><tr><td class = \"rowNumber\" style = \"font-weight: bold; text-align: right;\">6</td><td style = \"text-align: right;\">1</td><td style = \"text-align: left;\">A</td><td style = \"text-align: right;\">12890.4</td><td style = \"text-align: right;\">9990.05</td><td style = \"text-align: right;\">5</td><td style = \"text-align: right;\">1</td><td style = \"text-align: right;\">27</td><td style = \"text-align: right;\">1</td><td style = \"text-align: left;\">Hispanic</td><td style = \"text-align: left;\">Male</td><td style = \"text-align: right;\">6918.0</td><td style = \"text-align: right;\">6</td><td style = \"text-align: right;\">0</td></tr><tr><td class = \"rowNumber\" style = \"font-weight: bold; text-align: right;\">7</td><td style = \"text-align: right;\">1</td><td style = \"text-align: left;\">B</td><td style = \"text-align: right;\">17130.4</td><td style = \"text-align: right;\">19409.6</td><td style = \"text-align: right;\">2</td><td style = \"text-align: right;\">1</td><td style = \"text-align: right;\">27</td><td style = \"text-align: right;\">2</td><td style = \"text-align: left;\">African American</td><td style = \"text-align: left;\">Male</td><td style = \"text-align: right;\">4808.87</td><td style = \"text-align: right;\">7</td><td style = \"text-align: right;\">0</td></tr><tr><td class = \"rowNumber\" style = \"font-weight: bold; text-align: right;\">8</td><td style = \"text-align: right;\">1</td><td style = \"text-align: left;\">B</td><td style = \"text-align: right;\">37529.4</td><td style = \"text-align: right;\">16934.8</td><td style = \"text-align: right;\">3</td><td style = \"text-align: right;\">5</td><td style = \"text-align: right;\">27</td><td style = \"text-align: right;\">2</td><td style = \"text-align: left;\">Other</td><td style = \"text-align: left;\">Male</td><td style = \"text-align: right;\">19913.7</td><td style = \"text-align: right;\">8</td><td style = \"text-align: right;\">0</td></tr><tr><td class = \"rowNumber\" style = \"font-weight: bold; text-align: right;\">9</td><td style = \"text-align: right;\">1</td><td style = \"text-align: left;\">A</td><td style = \"text-align: right;\">32126.1</td><td style = \"text-align: right;\">6816.33</td><td style = \"text-align: right;\">3</td><td style = \"text-align: right;\">1</td><td style = \"text-align: right;\">27</td><td style = \"text-align: right;\">2</td><td style = \"text-align: left;\">Caucasian</td><td style = \"text-align: left;\">Female</td><td style = \"text-align: right;\">13029.6</td><td style = \"text-align: right;\">9</td><td style = \"text-align: right;\">1</td></tr><tr><td class = \"rowNumber\" style = \"font-weight: bold; text-align: right;\">10</td><td style = \"text-align: right;\">1</td><td style = \"text-align: left;\">A</td><td style = \"text-align: right;\">38673.6</td><td style = \"text-align: right;\">6778.61</td><td style = \"text-align: right;\">5</td><td style = \"text-align: right;\">4</td><td style = \"text-align: right;\">27</td><td style = \"text-align: right;\">3</td><td style = \"text-align: left;\">Caucasian</td><td style = \"text-align: left;\">Male</td><td style = \"text-align: right;\">8605.06</td><td style = \"text-align: right;\">10</td><td style = \"text-align: right;\">1</td></tr><tr><td class = \"rowNumber\" style = \"font-weight: bold; text-align: right;\">11</td><td style = \"text-align: right;\">1</td><td style = \"text-align: left;\">A</td><td style = \"text-align: right;\">25437.8</td><td style = \"text-align: right;\">37400.5</td><td style = \"text-align: right;\">1</td><td style = \"text-align: right;\">1</td><td style = \"text-align: right;\">27</td><td style = \"text-align: right;\">3</td><td style = \"text-align: left;\">Asian</td><td style = \"text-align: left;\">Female</td><td style = \"text-align: right;\">5146.88</td><td style = \"text-align: right;\">11</td><td style = \"text-align: right;\">0</td></tr><tr><td class = \"rowNumber\" style = \"font-weight: bold; text-align: right;\">12</td><td style = \"text-align: right;\">1</td><td style = \"text-align: left;\">A</td><td style = \"text-align: right;\">39412.7</td><td style = \"text-align: right;\">36986.5</td><td style = \"text-align: right;\">1</td><td style = \"text-align: right;\">5</td><td style = \"text-align: right;\">27</td><td style = \"text-align: right;\">3</td><td style = \"text-align: left;\">Asian</td><td style = \"text-align: left;\">Female</td><td style = \"text-align: right;\">11726.1</td><td style = \"text-align: right;\">12</td><td style = \"text-align: right;\">0</td></tr><tr><td class = \"rowNumber\" style = \"font-weight: bold; text-align: right;\">13</td><td style = \"text-align: right;\">1</td><td style = \"text-align: left;\">A</td><td style = \"text-align: right;\">31217.8</td><td style = \"text-align: right;\">21297.1</td><td style = \"text-align: right;\">5</td><td style = \"text-align: right;\">2</td><td style = \"text-align: right;\">27</td><td style = \"text-align: right;\">3</td><td style = \"text-align: left;\">Hispanic</td><td style = \"text-align: left;\">Male</td><td style = \"text-align: right;\">1398.81</td><td style = \"text-align: right;\">13</td><td style = \"text-align: right;\">1</td></tr><tr><td style = \"text-align: right;\">&vellip;</td><td style = \"text-align: right;\">&vellip;</td><td style = \"text-align: right;\">&vellip;</td><td style = \"text-align: right;\">&vellip;</td><td style = \"text-align: right;\">&vellip;</td><td style = \"text-align: right;\">&vellip;</td><td style = \"text-align: right;\">&vellip;</td><td style = \"text-align: right;\">&vellip;</td><td style = \"text-align: right;\">&vellip;</td><td style = \"text-align: right;\">&vellip;</td><td style = \"text-align: right;\">&vellip;</td><td style = \"text-align: right;\">&vellip;</td><td style = \"text-align: right;\">&vellip;</td><td style = \"text-align: right;\">&vellip;</td></tr><tr><td class = \"rowNumber\" style = \"font-weight: bold; text-align: right;\">2136</td><td style = \"text-align: right;\">5</td><td style = \"text-align: left;\">A</td><td style = \"text-align: right;\">59744.3</td><td style = \"text-align: right;\">1.57223e5</td><td style = \"text-align: right;\">5</td><td style = \"text-align: right;\">1</td><td style = \"text-align: right;\">55</td><td style = \"text-align: right;\">13</td><td style = \"text-align: left;\">Other</td><td style = \"text-align: left;\">Male</td><td style = \"text-align: right;\">88008.5</td><td style = \"text-align: right;\">2253</td><td style = \"text-align: right;\">0</td></tr><tr><td class = \"rowNumber\" style = \"font-weight: bold; text-align: right;\">2137</td><td style = \"text-align: right;\">5</td><td style = \"text-align: left;\">B</td><td style = \"text-align: right;\">64680.5</td><td style = \"text-align: right;\">107386.0</td><td style = \"text-align: right;\">4</td><td style = \"text-align: right;\">3</td><td style = \"text-align: right;\">55</td><td style = \"text-align: right;\">8</td><td style = \"text-align: left;\">Caucasian</td><td style = \"text-align: left;\">Male</td><td style = \"text-align: right;\">83834.3</td><td style = \"text-align: right;\">2257</td><td style = \"text-align: right;\">0</td></tr><tr><td class = \"rowNumber\" style = \"font-weight: bold; text-align: right;\">2138</td><td style = \"text-align: right;\">5</td><td style = \"text-align: left;\">B</td><td style = \"text-align: right;\">23688.9</td><td style = \"text-align: right;\">13945.9</td><td style = \"text-align: right;\">4</td><td style = \"text-align: right;\">4</td><td style = \"text-align: right;\">55</td><td style = \"text-align: right;\">12</td><td style = \"text-align: left;\">Other</td><td style = \"text-align: left;\">Female</td><td style = \"text-align: right;\">79711.4</td><td style = \"text-align: right;\">2265</td><td style = \"text-align: right;\">0</td></tr><tr><td class = \"rowNumber\" style = \"font-weight: bold; text-align: right;\">2139</td><td style = \"text-align: right;\">5</td><td style = \"text-align: left;\">B</td><td style = \"text-align: right;\">65259.1</td><td style = \"text-align: right;\">79209.4</td><td style = \"text-align: right;\">4</td><td style = \"text-align: right;\">4</td><td style = \"text-align: right;\">55</td><td style = \"text-align: right;\">13</td><td style = \"text-align: left;\">Other</td><td style = \"text-align: left;\">Male</td><td style = \"text-align: right;\">62090.3</td><td style = \"text-align: right;\">2268</td><td style = \"text-align: right;\">0</td></tr><tr><td class = \"rowNumber\" style = \"font-weight: bold; text-align: right;\">2140</td><td style = \"text-align: right;\">5</td><td style = \"text-align: left;\">A</td><td style = \"text-align: right;\">1.95113e5</td><td style = \"text-align: right;\">1.63435e5</td><td style = \"text-align: right;\">4</td><td style = \"text-align: right;\">4</td><td style = \"text-align: right;\">55</td><td style = \"text-align: right;\">8</td><td style = \"text-align: left;\">Hispanic</td><td style = \"text-align: left;\">Male</td><td style = \"text-align: right;\">71438.4</td><td style = \"text-align: right;\">2270</td><td style = \"text-align: right;\">0</td></tr><tr><td class = \"rowNumber\" style = \"font-weight: bold; text-align: right;\">2141</td><td style = \"text-align: right;\">5</td><td style = \"text-align: left;\">B</td><td style = \"text-align: right;\">1.3971e5</td><td style = \"text-align: right;\">27631.2</td><td style = \"text-align: right;\">4</td><td style = \"text-align: right;\">3</td><td style = \"text-align: right;\">55</td><td style = \"text-align: right;\">17</td><td style = \"text-align: left;\">Hispanic</td><td style = \"text-align: left;\">Male</td><td style = \"text-align: right;\">17281.4</td><td style = \"text-align: right;\">2271</td><td style = \"text-align: right;\">1</td></tr><tr><td class = \"rowNumber\" style = \"font-weight: bold; text-align: right;\">2142</td><td style = \"text-align: right;\">5</td><td style = \"text-align: left;\">B</td><td style = \"text-align: right;\">24004.5</td><td style = \"text-align: right;\">1.24204e5</td><td style = \"text-align: right;\">4</td><td style = \"text-align: right;\">4</td><td style = \"text-align: right;\">55</td><td style = \"text-align: right;\">20</td><td style = \"text-align: left;\">Asian</td><td style = \"text-align: left;\">Male</td><td style = \"text-align: right;\">63716.7</td><td style = \"text-align: right;\">2273</td><td style = \"text-align: right;\">0</td></tr><tr><td class = \"rowNumber\" style = \"font-weight: bold; text-align: right;\">2143</td><td style = \"text-align: right;\">5</td><td style = \"text-align: left;\">A</td><td style = \"text-align: right;\">11449.9</td><td style = \"text-align: right;\">13957.4</td><td style = \"text-align: right;\">4</td><td style = \"text-align: right;\">1</td><td style = \"text-align: right;\">55</td><td style = \"text-align: right;\">18</td><td style = \"text-align: left;\">Hispanic</td><td style = \"text-align: left;\">Male</td><td style = \"text-align: right;\">39191.1</td><td style = \"text-align: right;\">2274</td><td style = \"text-align: right;\">0</td></tr><tr><td class = \"rowNumber\" style = \"font-weight: bold; text-align: right;\">2144</td><td style = \"text-align: right;\">5</td><td style = \"text-align: left;\">A</td><td style = \"text-align: right;\">1.91152e5</td><td style = \"text-align: right;\">1.8404e5</td><td style = \"text-align: right;\">5</td><td style = \"text-align: right;\">2</td><td style = \"text-align: right;\">55</td><td style = \"text-align: right;\">17</td><td style = \"text-align: left;\">Hispanic</td><td style = \"text-align: left;\">Female</td><td style = \"text-align: right;\">17262.0</td><td style = \"text-align: right;\">2278</td><td style = \"text-align: right;\">0</td></tr><tr><td class = \"rowNumber\" style = \"font-weight: bold; text-align: right;\">2145</td><td style = \"text-align: right;\">5</td><td style = \"text-align: left;\">A</td><td style = \"text-align: right;\">1.47229e5</td><td style = \"text-align: right;\">26977.9</td><td style = \"text-align: right;\">4</td><td style = \"text-align: right;\">2</td><td style = \"text-align: right;\">55</td><td style = \"text-align: right;\">18</td><td style = \"text-align: left;\">African American</td><td style = \"text-align: left;\">Female</td><td style = \"text-align: right;\">49516.4</td><td style = \"text-align: right;\">2280</td><td style = \"text-align: right;\">1</td></tr><tr><td class = \"rowNumber\" style = \"font-weight: bold; text-align: right;\">2146</td><td style = \"text-align: right;\">5</td><td style = \"text-align: left;\">A</td><td style = \"text-align: right;\">90864.3</td><td style = \"text-align: right;\">1.38122e5</td><td style = \"text-align: right;\">4</td><td style = \"text-align: right;\">1</td><td style = \"text-align: right;\">55</td><td style = \"text-align: right;\">19</td><td style = \"text-align: left;\">Hispanic</td><td style = \"text-align: left;\">Female</td><td style = \"text-align: right;\">31636.3</td><td style = \"text-align: right;\">2281</td><td style = \"text-align: right;\">0</td></tr><tr><td class = \"rowNumber\" style = \"font-weight: bold; text-align: right;\">2147</td><td style = \"text-align: right;\">5</td><td style = \"text-align: left;\">B</td><td style = \"text-align: right;\">1.28987e5</td><td style = \"text-align: right;\">66384.3</td><td style = \"text-align: right;\">4</td><td style = \"text-align: right;\">4</td><td style = \"text-align: right;\">55</td><td style = \"text-align: right;\">9</td><td style = \"text-align: left;\">Caucasian</td><td style = \"text-align: left;\">Female</td><td style = \"text-align: right;\">31059.2</td><td style = \"text-align: right;\">2283</td><td style = \"text-align: right;\">1</td></tr></tbody></table></div>"
      ],
      "text/latex": [
       "\\begin{tabular}{r|ccccccccc}\n",
       "\t& Level\\_in\\_Company & Company & Salary & Revenue & Department & Score\\_Review & Age & Years\\_at\\_Company & \\\\\n",
       "\t\\hline\n",
       "\t& Int64 & String1 & Float64 & Float64 & Int64 & Int64 & Int64 & Int64 & \\\\\n",
       "\t\\hline\n",
       "\t1 & 1 & B & 33285.5 & 16587.8 & 2 & 4 & 27 & 1 & $\\dots$ \\\\\n",
       "\t2 & 1 & B & 10281.4 & 9813.93 & 1 & 1 & 27 & 3 & $\\dots$ \\\\\n",
       "\t3 & 1 & A & 18312.4 & 14396.4 & 1 & 5 & 27 & 3 & $\\dots$ \\\\\n",
       "\t4 & 1 & A & 5154.46 & 31821.6 & 2 & 5 & 27 & 3 & $\\dots$ \\\\\n",
       "\t5 & 1 & B & 2424.3 & 1359.47 & 3 & 4 & 27 & 2 & $\\dots$ \\\\\n",
       "\t6 & 1 & A & 12890.4 & 9990.05 & 5 & 1 & 27 & 1 & $\\dots$ \\\\\n",
       "\t7 & 1 & B & 17130.4 & 19409.6 & 2 & 1 & 27 & 2 & $\\dots$ \\\\\n",
       "\t8 & 1 & B & 37529.4 & 16934.8 & 3 & 5 & 27 & 2 & $\\dots$ \\\\\n",
       "\t9 & 1 & A & 32126.1 & 6816.33 & 3 & 1 & 27 & 2 & $\\dots$ \\\\\n",
       "\t10 & 1 & A & 38673.6 & 6778.61 & 5 & 4 & 27 & 3 & $\\dots$ \\\\\n",
       "\t11 & 1 & A & 25437.8 & 37400.5 & 1 & 1 & 27 & 3 & $\\dots$ \\\\\n",
       "\t12 & 1 & A & 39412.7 & 36986.5 & 1 & 5 & 27 & 3 & $\\dots$ \\\\\n",
       "\t13 & 1 & A & 31217.8 & 21297.1 & 5 & 2 & 27 & 3 & $\\dots$ \\\\\n",
       "\t14 & 1 & A & 3525.51 & 27166.3 & 4 & 4 & 27 & 1 & $\\dots$ \\\\\n",
       "\t15 & 1 & A & 23916.5 & 17968.6 & 3 & 5 & 27 & 2 & $\\dots$ \\\\\n",
       "\t16 & 1 & B & 27377.9 & 18206.2 & 1 & 2 & 27 & 1 & $\\dots$ \\\\\n",
       "\t17 & 1 & B & 3413.92 & 36928.8 & 4 & 5 & 27 & 1 & $\\dots$ \\\\\n",
       "\t18 & 1 & A & 39589.7 & 25802.4 & 4 & 4 & 27 & 3 & $\\dots$ \\\\\n",
       "\t19 & 1 & A & 6302.42 & 26708.1 & 4 & 1 & 27 & 3 & $\\dots$ \\\\\n",
       "\t20 & 1 & A & 38452.1 & 7003.14 & 3 & 3 & 27 & 1 & $\\dots$ \\\\\n",
       "\t21 & 1 & A & 1473.36 & 140.505 & 2 & 4 & 27 & 2 & $\\dots$ \\\\\n",
       "\t22 & 1 & B & 27369.0 & 2761.43 & 2 & 5 & 27 & 1 & $\\dots$ \\\\\n",
       "\t23 & 1 & B & 11348.4 & 35427.4 & 2 & 3 & 27 & 2 & $\\dots$ \\\\\n",
       "\t24 & 1 & A & 15640.4 & 32814.6 & 5 & 2 & 27 & 1 & $\\dots$ \\\\\n",
       "\t25 & 1 & A & 32186.9 & 25263.2 & 2 & 2 & 27 & 2 & $\\dots$ \\\\\n",
       "\t26 & 1 & A & 22696.9 & 13559.3 & 3 & 2 & 27 & 3 & $\\dots$ \\\\\n",
       "\t27 & 1 & B & 24911.8 & 1432.93 & 3 & 2 & 27 & 3 & $\\dots$ \\\\\n",
       "\t28 & 1 & A & 1079.08 & 18138.8 & 4 & 5 & 27 & 1 & $\\dots$ \\\\\n",
       "\t29 & 1 & B & 2635.98 & 39330.6 & 4 & 4 & 27 & 2 & $\\dots$ \\\\\n",
       "\t30 & 1 & A & 34292.2 & 12929.6 & 4 & 4 & 27 & 3 & $\\dots$ \\\\\n",
       "\t$\\dots$ & $\\dots$ & $\\dots$ & $\\dots$ & $\\dots$ & $\\dots$ & $\\dots$ & $\\dots$ & $\\dots$ &  \\\\\n",
       "\\end{tabular}\n"
      ],
      "text/plain": [
       "\u001b[1m2147×13 DataFrame\u001b[0m\n",
       "\u001b[1m  Row \u001b[0m│\u001b[1m Level_in_Company \u001b[0m\u001b[1m Company \u001b[0m\u001b[1m Salary        \u001b[0m\u001b[1m Revenue        \u001b[0m\u001b[1m Department \u001b[0m\u001b[1m \u001b[0m ⋯\n",
       "      │\u001b[90m Int64            \u001b[0m\u001b[90m String1 \u001b[0m\u001b[90m Float64       \u001b[0m\u001b[90m Float64        \u001b[0m\u001b[90m Int64      \u001b[0m\u001b[90m \u001b[0m ⋯\n",
       "──────┼─────────────────────────────────────────────────────────────────────────\n",
       "    1 │                1  B        33285.5         16587.8                 2   ⋯\n",
       "    2 │                1  B        10281.4          9813.93                1\n",
       "    3 │                1  A        18312.4         14396.4                 1\n",
       "    4 │                1  A         5154.46        31821.6                 2\n",
       "    5 │                1  B         2424.3          1359.47                3   ⋯\n",
       "    6 │                1  A        12890.4          9990.05                5\n",
       "    7 │                1  B        17130.4         19409.6                 2\n",
       "    8 │                1  B        37529.4         16934.8                 3\n",
       "    9 │                1  A        32126.1          6816.33                3   ⋯\n",
       "   10 │                1  A        38673.6          6778.61                5\n",
       "   11 │                1  A        25437.8         37400.5                 1\n",
       "  ⋮   │        ⋮             ⋮           ⋮              ⋮             ⋮        ⋱\n",
       " 2138 │                5  B        23688.9         13945.9                 4\n",
       " 2139 │                5  B        65259.1         79209.4                 4   ⋯\n",
       " 2140 │                5  A            1.95113e5       1.63435e5           4\n",
       " 2141 │                5  B            1.3971e5    27631.2                 4\n",
       " 2142 │                5  B        24004.5             1.24204e5           4\n",
       " 2143 │                5  A        11449.9         13957.4                 4   ⋯\n",
       " 2144 │                5  A            1.91152e5       1.8404e5            5\n",
       " 2145 │                5  A            1.47229e5   26977.9                 4\n",
       " 2146 │                5  A        90864.3             1.38122e5           4\n",
       " 2147 │                5  B            1.28987e5   66384.3                 4   ⋯\n",
       "\u001b[36m                                                 8 columns and 2126 rows omitted\u001b[0m"
      ]
     },
     "execution_count": 46,
     "metadata": {},
     "output_type": "execute_result"
    }
   ],
   "source": [
    "indices_never = findall(x -> x ==0, temp)\n",
    "data_never_picked = employee_data[indices_never, :]\n",
    "\n",
    "result = [i in indices_never ? 1 : 0 for i in 1:nrow(employee_data)]\n",
    "employee_data[!, :NeverPicked] = result\n",
    "employee_data"
   ]
  },
  {
   "cell_type": "code",
   "execution_count": 47,
   "id": "191fed37",
   "metadata": {},
   "outputs": [
    {
     "data": {
      "text/plain": [
       "\"employee_data_modified.csv\""
      ]
     },
     "execution_count": 47,
     "metadata": {},
     "output_type": "execute_result"
    }
   ],
   "source": [
    "CSV.write(\"employee_data_modified.csv\", employee_data)"
   ]
  },
  {
   "cell_type": "markdown",
   "id": "f8cc791b",
   "metadata": {},
   "source": [
    "# Financial Health Optimization"
   ]
  },
  {
   "cell_type": "code",
   "execution_count": null,
   "id": "482b6a12",
   "metadata": {},
   "outputs": [],
   "source": [
    "financial_data = CSV.read(\"financial_data.csv\", DataFrame)\n",
    "\n",
    "n = 1:size(financial_data)[1]\n",
    "m = 1:size(financial_data)[1]"
   ]
  },
  {
   "cell_type": "markdown",
   "id": "5919a15b-21f5-4d73-b5a6-2270ebe166d9",
   "metadata": {},
   "source": [
    "## Baseline Model"
   ]
  },
  {
   "cell_type": "code",
   "execution_count": 63,
   "id": "8ead639b-9ef4-4cd2-9ef8-6854064f373f",
   "metadata": {},
   "outputs": [
    {
     "data": {
      "text/plain": [
       "(Bool[1, 0, 0, 1, 1, 1, 0, 0, 1, 0, 0, 1, 0, 0, 1, 1, 0, 1, 1, 0], Real[202855.5, 0, 0, 229041.5, 229891.5, 202068.5, 0, 0, 237282.0, 0, 0, 231672.5, 0, 0, 214921.5, 216376.0, 0, 223055.0, 247543.5, 0], Real[202855.5, 0, 0, 229041.5, 229891.5, 202068.5, 0, 0, 237282.0, 0, 0, 231672.5, 0, 0, 214921.5, 216376.0, 0, 223055.0, 247543.5, 0], 4.469415e6)"
      ]
     },
     "execution_count": 63,
     "metadata": {},
     "output_type": "execute_result"
    }
   ],
   "source": [
    "function optimize_financial_health_baseline(financial_data, UB, LB)\n",
    "    # Convert to DataFrame for easier handling\n",
    "    F = DataFrame(financial_data)\n",
    "    n_assets = nrow(F)  # Get the number of assets\n",
    "    asset_values = F[!, 3]  # Assuming the third column has asset values\n",
    "    \n",
    "    # Get the indices of sorted assets\n",
    "    sorted_asset_indices = sortperm(asset_values, rev=true)\n",
    "\n",
    "    # Initialize selection array for assets (X)\n",
    "    X = falses(n_assets)\n",
    "\n",
    "    # Select top assets up to UB\n",
    "    for i in 1:min(UB, n_assets)\n",
    "        X[sorted_asset_indices[i]] = true\n",
    "    end\n",
    "\n",
    "    # Creating an array of half the value of selected assets\n",
    "    debt = [X[i] ? asset_values[i] / 2 : 0 for i in 1:n_assets]\n",
    "    equity = [X[i] ? asset_values[i] / 2 : 0 for i in 1:n_assets]\n",
    "    \n",
    "    return X, debt, equity, 2 * sum(debt)\n",
    "end\n",
    "\n",
    "\n",
    "optimize_financial_health_baseline(financial_data, 10, 5)"
   ]
  },
  {
   "cell_type": "code",
   "execution_count": 66,
   "id": "4602c201",
   "metadata": {},
   "outputs": [
    {
     "data": {
      "text/plain": [
       "balance_sheet_optimization (generic function with 2 methods)"
      ]
     },
     "execution_count": 66,
     "metadata": {},
     "output_type": "execute_result"
    }
   ],
   "source": [
    "function balance_sheet_optimization(financial_data, equity_max=2000000)\n",
    "    n = nrow(financial_data)\n",
    "    F = Matrix(financial_data)\n",
    "    V = F[:, 3]\n",
    "    model = Model(Gurobi.Optimizer)\n",
    "    \n",
    "    @variable(model, X[1:n], Bin)\n",
    "    @variable(model, L[1:n] >=0)\n",
    "    @variable(model, S[1:n] >=0)\n",
    "    \n",
    "    \n",
    "    @constraint(model, [i in 1:n], V[i] * X[i] == L[i]* X[i] + S[i] * X[i])\n",
    "    @constraint(model, liquidity, sum(V[i] * X[i] for i in 1:n) >= sum(L[i]*X[i] for i in 1:n))\n",
    "    @constraint(model, solvency, sum(L[i] * X[i] for i in 1:n) <= sum(S[i]*X[i] for i in 1:n))\n",
    "    @constraint(model, sum(S[i] for i in 1:n) <= equity_max)\n",
    "    \n",
    "    @objective(model, Max, sum(V[i] * X[i] for i in 1:n))\n",
    "    \n",
    "    optimize!(model)\n",
    "    \n",
    "    return value.(X), value.(L), value.(S), objective_value(model)\n",
    "end"
   ]
  },
  {
   "cell_type": "code",
   "execution_count": 51,
   "id": "85b0cd6c",
   "metadata": {},
   "outputs": [
    {
     "name": "stdout",
     "output_type": "stream",
     "text": [
      "Set parameter Username\n",
      "Academic license - for non-commercial use only - expires 2024-08-22\n",
      "Gurobi Optimizer version 10.0.2 build v10.0.2rc0 (mac64[x86])\n",
      "\n",
      "CPU model: Intel(R) Core(TM) i5-8257U CPU @ 1.40GHz\n",
      "Thread count: 4 physical cores, 8 logical processors, using up to 8 threads\n",
      "\n",
      "Optimize a model with 1 rows, 60 columns and 20 nonzeros\n",
      "Model fingerprint: 0x7781128c\n",
      "Model has 22 quadratic constraints\n",
      "Variable types: 40 continuous, 20 integer (20 binary)\n",
      "Coefficient statistics:\n",
      "  Matrix range     [1e+00, 1e+00]\n",
      "  QMatrix range    [1e+00, 1e+00]\n",
      "  QLMatrix range   [2e+05, 5e+05]\n",
      "  Objective range  [2e+05, 5e+05]\n",
      "  Bounds range     [0e+00, 0e+00]\n",
      "  RHS range        [2e+06, 2e+06]\n",
      "Found heuristic solution: objective -0.0000000\n",
      "Presolve time: 0.01s\n",
      "Presolved: 123 rows, 140 columns, 400 nonzeros\n",
      "Presolved model has 40 SOS constraint(s)\n",
      "Variable types: 100 continuous, 40 integer (40 binary)\n",
      "\n",
      "Root relaxation: objective 4.000000e+06, 18 iterations, 0.00 seconds (0.00 work units)\n",
      "\n",
      "    Nodes    |    Current Node    |     Objective Bounds      |     Work\n",
      " Expl Unexpl |  Obj  Depth IntInf | Incumbent    BestBd   Gap | It/Node Time\n",
      "\n",
      "     0     0 4000000.00    0    1   -0.00000 4000000.00      -     -    0s\n",
      "H    0     0                    3881726.0000 4000000.00  3.05%     -    0s\n",
      "     0     0 4000000.00    0    3 3881726.00 4000000.00  3.05%     -    0s\n",
      "     0     0 4000000.00    0    3 3881726.00 4000000.00  3.05%     -    0s\n",
      "H    0     0                    3890660.0000 4000000.00  2.81%     -    0s\n",
      "H    0     0                    3979452.0000 4000000.00  0.52%     -    0s\n",
      "     0     0 4000000.00    0    4 3979452.00 4000000.00  0.52%     -    0s\n",
      "H    0     0                    3983254.0000 4000000.00  0.42%     -    0s\n",
      "     0     0 4000000.00    0    5 3983254.00 4000000.00  0.42%     -    0s\n",
      "     0     0 4000000.00    0    5 3983254.00 4000000.00  0.42%     -    0s\n",
      "     0     2 4000000.00    0    5 3983254.00 4000000.00  0.42%     -    0s\n",
      "*  127   111              20    3994667.0000 4000000.00  0.13%   2.4    0s\n",
      "H  291   146                    3999009.0000 4000000.00  0.02%   2.4    0s\n",
      "*  414   146              19    3999653.0000 4000000.00  0.01%   2.3    0s\n",
      "\n",
      "Cutting planes:\n",
      "  Gomory: 1\n",
      "  MIR: 4\n",
      "  Flow cover: 1\n",
      "  Relax-and-lift: 1\n",
      "\n",
      "Explored 675 nodes (1503 simplex iterations) in 0.10 seconds (0.01 work units)\n",
      "Thread count was 8 (of 8 available processors)\n",
      "\n",
      "Solution count 8: 3.99965e+06 3.99901e+06 3.99467e+06 ... -0\n",
      "\n",
      "Optimal solution found (tolerance 1.00e-04)\n",
      "Best objective 3.999653000000e+06, best bound 4.000000000000e+06, gap 0.0087%\n",
      "\n",
      "User-callback calls 1590, time in user-callback 0.00 sec\n"
     ]
    },
    {
     "data": {
      "text/plain": [
       "([1.0, 1.0, 1.0, 0.0, 0.0, 1.0, 0.0, 0.0, 1.0, 0.0, 1.0, 1.0, 0.0, 1.0, 0.0, 1.0, 0.0, 0.0, 1.0, 1.0], [0.0, 0.0, 0.0, 0.0, 0.0, 0.0, 0.0, 0.0, 287882.5, 0.0, 320760.0, 463345.0, 0.0, 0.0, 0.0, 432752.0, 0.0, 0.0, 495087.0, 0.0], [405711.0, 217952.0, 252315.0, 0.0, 0.0, 404137.0, 0.0, 0.0, 186681.5, 0.0, 0.0, 0.0, 0.0, 182457.0, 0.0, 0.0, 0.0, 0.0, 0.0, 350573.0], 3.999653e6)"
      ]
     },
     "execution_count": 51,
     "metadata": {},
     "output_type": "execute_result"
    }
   ],
   "source": [
    "financial_data = CSV.read(\"Financial_data.csv\", DataFrame)\n",
    "\n",
    "balance_sheet_optimization(financial_data)"
   ]
  },
  {
   "cell_type": "code",
   "execution_count": 68,
   "id": "2ceec984",
   "metadata": {},
   "outputs": [
    {
     "name": "stdout",
     "output_type": "stream",
     "text": [
      "Set parameter Username\n",
      "Academic license - for non-commercial use only - expires 2024-08-22\n",
      "Gurobi Optimizer version 10.0.2 build v10.0.2rc0 (mac64[x86])\n",
      "\n",
      "CPU model: Intel(R) Core(TM) i5-8257U CPU @ 1.40GHz\n",
      "Thread count: 4 physical cores, 8 logical processors, using up to 8 threads\n",
      "\n",
      "Optimize a model with 1 rows, 60 columns and 20 nonzeros\n",
      "Model fingerprint: 0x407d083a\n",
      "Model has 22 quadratic constraints\n",
      "Variable types: 40 continuous, 20 integer (20 binary)\n",
      "Coefficient statistics:\n",
      "  Matrix range     [1e+00, 1e+00]\n",
      "  QMatrix range    [1e+00, 1e+00]\n",
      "  QLMatrix range   [2e+05, 5e+05]\n",
      "  Objective range  [2e+05, 5e+05]\n",
      "  Bounds range     [0e+00, 0e+00]\n",
      "  RHS range        [1e+06, 1e+06]\n",
      "Found heuristic solution: objective -0.0000000\n",
      "Presolve time: 0.00s\n",
      "Presolved: 123 rows, 140 columns, 400 nonzeros\n",
      "Presolved model has 40 SOS constraint(s)\n",
      "Variable types: 100 continuous, 40 integer (40 binary)\n",
      "\n",
      "Root relaxation: objective 2.000000e+06, 11 iterations, 0.00 seconds (0.00 work units)\n",
      "\n",
      "    Nodes    |    Current Node    |     Objective Bounds      |     Work\n",
      " Expl Unexpl |  Obj  Depth IntInf | Incumbent    BestBd   Gap | It/Node Time\n",
      "\n",
      "     0     0 2000000.00    0    2   -0.00000 2000000.00      -     -    0s\n",
      "H    0     0                    1856607.0000 2000000.00  7.72%     -    0s\n",
      "H    0     0                    1930011.0000 2000000.00  3.63%     -    0s\n",
      "     0     0 2000000.00    0    1 1930011.00 2000000.00  3.63%     -    0s\n",
      "     0     0 2000000.00    0    1 1930011.00 2000000.00  3.63%     -    0s\n",
      "     0     2 2000000.00    0    1 1930011.00 2000000.00  3.63%     -    0s\n",
      "H    9    12                    1994376.0000 2000000.00  0.28%   1.6    0s\n",
      "*  206    72              20    1998356.0000 2000000.00  0.08%   1.6    0s\n",
      "H  885   102                    1998517.0000 2000000.00  0.07%   1.5    0s\n",
      "* 1515   109              20    1998615.0000 2000000.00  0.07%   1.6    0s\n",
      "* 2478   151              16    1998731.0000 2000000.00  0.06%   1.7    0s\n",
      "* 2710   168              18    1999188.0000 2000000.00  0.04%   1.7    0s\n",
      "* 3243   168              19    1999397.0000 2000000.00  0.03%   1.8    0s\n",
      "* 5674   212              19    1999763.0000 2000000.00  0.01%   1.9    0s\n",
      "* 6163   212              18    1999799.0000 2000000.00  0.01%   1.9    0s\n",
      "* 8019   285              17    1999890.0000 2000000.00  0.01%   2.0    0s\n",
      "\n",
      "Cutting planes:\n",
      "  Gomory: 1\n",
      "  Cover: 189\n",
      "  MIR: 1\n",
      "  Flow cover: 1\n",
      "  Inf proof: 12\n",
      "\n",
      "Explored 8549 nodes (17529 simplex iterations) in 0.26 seconds (0.09 work units)\n",
      "Thread count was 8 (of 8 available processors)\n",
      "\n",
      "Solution count 10: 1.99989e+06 1.9998e+06 1.99976e+06 ... 1.99438e+06\n",
      "\n",
      "Optimal solution found (tolerance 1.00e-04)\n",
      "Best objective 1.999890000000e+06, best bound 2.000000000000e+06, gap 0.0055%\n",
      "\n",
      "User-callback calls 17367, time in user-callback 0.00 sec\n"
     ]
    },
    {
     "data": {
      "text/plain": [
       "([1.0, 1.0, 0.0, 0.0, 0.0, 0.0, 0.0, 0.0, 1.0, 0.0, 0.0, 1.0, -3.552713678800501e-15, 1.0, 0.0, 0.0, 1.0, 0.0, 0.0, 0.0], [307428.9999999994, 217952.0, 0.0, 0.0, 0.0, 0.0, 0.0, 0.0, 474564.0, 0.0, 0.0, 0.0, 0.0, 0.0, 0.0, 0.0, -9.205969320191798e-13, 0.0, 0.0, 0.0], [98282.00000000063, 0.0, 0.0, 0.0, 0.0, 0.0, 0.0, 0.0, 0.0, 0.0, 0.0, 463345.0, -1.2536816029751208e-9, 182457.0, 0.0, 0.0, 255861.0, 0.0, 0.0, 0.0], 1.9998899999999988e6)"
      ]
     },
     "execution_count": 68,
     "metadata": {},
     "output_type": "execute_result"
    }
   ],
   "source": [
    "balance_sheet_optimization(financial_data, 1000000)"
   ]
  },
  {
   "cell_type": "code",
   "execution_count": 69,
   "id": "70eb5ef0",
   "metadata": {},
   "outputs": [
    {
     "name": "stdout",
     "output_type": "stream",
     "text": [
      "Set parameter Username\n",
      "Academic license - for non-commercial use only - expires 2024-08-22\n",
      "Gurobi Optimizer version 10.0.2 build v10.0.2rc0 (mac64[x86])\n",
      "\n",
      "CPU model: Intel(R) Core(TM) i5-8257U CPU @ 1.40GHz\n",
      "Thread count: 4 physical cores, 8 logical processors, using up to 8 threads\n",
      "\n",
      "Optimize a model with 1 rows, 60 columns and 20 nonzeros\n",
      "Model fingerprint: 0x10b58202\n",
      "Model has 22 quadratic constraints\n",
      "Variable types: 40 continuous, 20 integer (20 binary)\n",
      "Coefficient statistics:\n",
      "  Matrix range     [1e+00, 1e+00]\n",
      "  QMatrix range    [1e+00, 1e+00]\n",
      "  QLMatrix range   [2e+05, 5e+05]\n",
      "  Objective range  [2e+05, 5e+05]\n",
      "  Bounds range     [0e+00, 0e+00]\n",
      "  RHS range        [3e+06, 3e+06]\n",
      "Found heuristic solution: objective -0.0000000\n",
      "Presolve time: 0.00s\n",
      "Presolved: 123 rows, 140 columns, 400 nonzeros\n",
      "Presolved model has 40 SOS constraint(s)\n",
      "Variable types: 100 continuous, 40 integer (40 binary)\n",
      "\n",
      "Root relaxation: objective 6.000000e+06, 21 iterations, 0.00 seconds (0.00 work units)\n",
      "\n",
      "    Nodes    |    Current Node    |     Objective Bounds      |     Work\n",
      " Expl Unexpl |  Obj  Depth IntInf | Incumbent    BestBd   Gap | It/Node Time\n",
      "\n",
      "     0     0 6000000.00    0    2   -0.00000 6000000.00      -     -    0s\n",
      "H    0     0                    5969457.0000 6000000.00  0.51%     -    0s\n",
      "     0     0 6000000.00    0    1 5969457.00 6000000.00  0.51%     -    0s\n",
      "H    0     0                    5999812.0000 6000000.00  0.00%     -    0s\n",
      "     0     0 6000000.00    0    1 5999812.00 6000000.00  0.00%     -    0s\n",
      "\n",
      "Cutting planes:\n",
      "  Gomory: 1\n",
      "  MIR: 1\n",
      "  Flow cover: 4\n",
      "\n",
      "Explored 1 nodes (29 simplex iterations) in 0.01 seconds (0.00 work units)\n",
      "Thread count was 8 (of 8 available processors)\n",
      "\n",
      "Solution count 3: 5.99981e+06 5.96946e+06 -0 \n",
      "\n",
      "Optimal solution found (tolerance 1.00e-04)\n",
      "Best objective 5.999812000000e+06, best bound 6.000000000000e+06, gap 0.0031%\n",
      "\n",
      "User-callback calls 182, time in user-callback 0.00 sec\n"
     ]
    },
    {
     "data": {
      "text/plain": [
       "([0.0, 1.0, 0.0, 1.0, 1.0, 1.0, 1.0, 1.0, 1.0, 1.0, 1.0, 1.0, 1.0, 1.0, 1.0, 1.0, 1.0, 1.0, 0.0, 1.0], [0.0, 0.0, 0.0, 0.0, 349155.0, 404137.0, 0.0, 0.0, 474564.0, 0.0, 0.0, 463345.0, 0.0, 0.0, 429843.0, 432752.0, 0.0, 446110.0, 0.0, 0.0], [0.0, 217952.0, 0.0, 458083.0, 110628.0, 0.0, 222579.0, 213817.0, 0.0, 311543.0, 320760.0, 0.0, 355653.0, 182457.0, 0.0, 0.0, 255861.0, 0.0, 0.0, 350573.0], 5.999812e6)"
      ]
     },
     "execution_count": 69,
     "metadata": {},
     "output_type": "execute_result"
    }
   ],
   "source": [
    "balance_sheet_optimization(financial_data, 3000000)"
   ]
  }
 ],
 "metadata": {
  "kernelspec": {
   "display_name": "Julia 1.9.2",
   "language": "julia",
   "name": "julia-1.9"
  },
  "language_info": {
   "file_extension": ".jl",
   "mimetype": "application/julia",
   "name": "julia",
   "version": "1.9.3"
  }
 },
 "nbformat": 4,
 "nbformat_minor": 5
}
